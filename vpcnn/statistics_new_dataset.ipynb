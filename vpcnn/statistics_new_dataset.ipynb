{
 "cells": [
  {
   "cell_type": "code",
   "execution_count": 47,
   "metadata": {
    "collapsed": true,
    "pycharm": {
     "is_executing": false
    }
   },
   "outputs": [],
   "source": [
    "import pandas as pd\n",
    "from string import punctuation\n",
    "import matplotlib.pyplot as plt\n",
    "import matplotlib.lines as mlines\n",
    "import numpy as np\n",
    "pd.options.display.max_colwidth = 100"
   ]
  },
  {
   "cell_type": "code",
   "execution_count": 12,
   "outputs": [],
   "source": [
    "df = pd.read_csv('./data/new_all_nl.tsv', sep='\\t', header=None, names=['labels','text'])"
   ],
   "metadata": {
    "collapsed": false,
    "pycharm": {
     "name": "#%%\n",
     "is_executing": false
    }
   }
  },
  {
   "cell_type": "code",
   "execution_count": 13,
   "outputs": [
    {
     "data": {
      "text/plain": "      labels                                text\n820      198                 how is life at home\n2834     138                    have a good day!\n1453      28        how is your emotional health\n3404     101    any other symptoms youve noticed\n2805     217  how much do you take and how often",
      "text/html": "<div>\n<style scoped>\n    .dataframe tbody tr th:only-of-type {\n        vertical-align: middle;\n    }\n\n    .dataframe tbody tr th {\n        vertical-align: top;\n    }\n\n    .dataframe thead th {\n        text-align: right;\n    }\n</style>\n<table border=\"1\" class=\"dataframe\">\n  <thead>\n    <tr style=\"text-align: right;\">\n      <th></th>\n      <th>labels</th>\n      <th>text</th>\n    </tr>\n  </thead>\n  <tbody>\n    <tr>\n      <th>820</th>\n      <td>198</td>\n      <td>how is life at home</td>\n    </tr>\n    <tr>\n      <th>2834</th>\n      <td>138</td>\n      <td>have a good day!</td>\n    </tr>\n    <tr>\n      <th>1453</th>\n      <td>28</td>\n      <td>how is your emotional health</td>\n    </tr>\n    <tr>\n      <th>3404</th>\n      <td>101</td>\n      <td>any other symptoms youve noticed</td>\n    </tr>\n    <tr>\n      <th>2805</th>\n      <td>217</td>\n      <td>how much do you take and how often</td>\n    </tr>\n  </tbody>\n</table>\n</div>"
     },
     "metadata": {},
     "output_type": "execute_result",
     "execution_count": 13
    }
   ],
   "source": [
    "df.sample(5)"
   ],
   "metadata": {
    "collapsed": false,
    "pycharm": {
     "name": "#%%\n",
     "is_executing": false
    }
   }
  },
  {
   "cell_type": "code",
   "execution_count": 14,
   "outputs": [],
   "source": [
    "def decapitalize(string_):\n",
    "    return string_.lower()"
   ],
   "metadata": {
    "collapsed": false,
    "pycharm": {
     "name": "#%%\n",
     "is_executing": false
    }
   }
  },
  {
   "cell_type": "code",
   "execution_count": 15,
   "outputs": [],
   "source": [
    "df['text'] = df['text'].apply(decapitalize)"
   ],
   "metadata": {
    "collapsed": false,
    "pycharm": {
     "name": "#%%\n",
     "is_executing": false
    }
   }
  },
  {
   "cell_type": "code",
   "execution_count": 16,
   "outputs": [
    {
     "data": {
      "text/plain": "      labels                                               text\n1315     301  what about yourself, what is your medical history\n6173     260                                            im glad\n1172     291                     what do you like to do for fun\n4393     266                       how about your grandparents?\n5288     216             how many hours each week ddo you work?",
      "text/html": "<div>\n<style scoped>\n    .dataframe tbody tr th:only-of-type {\n        vertical-align: middle;\n    }\n\n    .dataframe tbody tr th {\n        vertical-align: top;\n    }\n\n    .dataframe thead th {\n        text-align: right;\n    }\n</style>\n<table border=\"1\" class=\"dataframe\">\n  <thead>\n    <tr style=\"text-align: right;\">\n      <th></th>\n      <th>labels</th>\n      <th>text</th>\n    </tr>\n  </thead>\n  <tbody>\n    <tr>\n      <th>1315</th>\n      <td>301</td>\n      <td>what about yourself, what is your medical history</td>\n    </tr>\n    <tr>\n      <th>6173</th>\n      <td>260</td>\n      <td>im glad</td>\n    </tr>\n    <tr>\n      <th>1172</th>\n      <td>291</td>\n      <td>what do you like to do for fun</td>\n    </tr>\n    <tr>\n      <th>4393</th>\n      <td>266</td>\n      <td>how about your grandparents?</td>\n    </tr>\n    <tr>\n      <th>5288</th>\n      <td>216</td>\n      <td>how many hours each week ddo you work?</td>\n    </tr>\n  </tbody>\n</table>\n</div>"
     },
     "metadata": {},
     "output_type": "execute_result",
     "execution_count": 16
    }
   ],
   "source": [
    "df.sample(5)"
   ],
   "metadata": {
    "collapsed": false,
    "pycharm": {
     "name": "#%%\n",
     "is_executing": false
    }
   }
  },
  {
   "cell_type": "code",
   "execution_count": 27,
   "outputs": [],
   "source": [
    "def remove_punctuations(string_):\n",
    "    return ''.join(c for c in string_ if c not in punctuation)"
   ],
   "metadata": {
    "collapsed": false,
    "pycharm": {
     "name": "#%%\n",
     "is_executing": false
    }
   }
  },
  {
   "cell_type": "code",
   "execution_count": 28,
   "outputs": [],
   "source": [
    "df['text'] = df['text'].apply(remove_punctuations)"
   ],
   "metadata": {
    "collapsed": false,
    "pycharm": {
     "name": "#%%\n",
     "is_executing": false
    }
   }
  },
  {
   "cell_type": "code",
   "execution_count": 34,
   "outputs": [
    {
     "data": {
      "text/plain": "      labels                                                text\n2383     278  now i want to talk about your past medical history\n4820      10                                       anything else\n4288     324                                   where do you work\n4902     107                      do you have any medical issues\n4049     157                            have you ever had an sti",
      "text/html": "<div>\n<style scoped>\n    .dataframe tbody tr th:only-of-type {\n        vertical-align: middle;\n    }\n\n    .dataframe tbody tr th {\n        vertical-align: top;\n    }\n\n    .dataframe thead th {\n        text-align: right;\n    }\n</style>\n<table border=\"1\" class=\"dataframe\">\n  <thead>\n    <tr style=\"text-align: right;\">\n      <th></th>\n      <th>labels</th>\n      <th>text</th>\n    </tr>\n  </thead>\n  <tbody>\n    <tr>\n      <th>2383</th>\n      <td>278</td>\n      <td>now i want to talk about your past medical history</td>\n    </tr>\n    <tr>\n      <th>4820</th>\n      <td>10</td>\n      <td>anything else</td>\n    </tr>\n    <tr>\n      <th>4288</th>\n      <td>324</td>\n      <td>where do you work</td>\n    </tr>\n    <tr>\n      <th>4902</th>\n      <td>107</td>\n      <td>do you have any medical issues</td>\n    </tr>\n    <tr>\n      <th>4049</th>\n      <td>157</td>\n      <td>have you ever had an sti</td>\n    </tr>\n  </tbody>\n</table>\n</div>"
     },
     "metadata": {},
     "output_type": "execute_result",
     "execution_count": 34
    }
   ],
   "source": [
    "df.sample(5)"
   ],
   "metadata": {
    "collapsed": false,
    "pycharm": {
     "name": "#%%\n",
     "is_executing": false
    }
   }
  },
  {
   "cell_type": "code",
   "execution_count": 36,
   "outputs": [],
   "source": [
    "def split_words(string_):\n",
    "    return string_.split(' ')"
   ],
   "metadata": {
    "collapsed": false,
    "pycharm": {
     "name": "#%%\n",
     "is_executing": false
    }
   }
  },
  {
   "cell_type": "code",
   "execution_count": 37,
   "outputs": [],
   "source": [
    "df['split'] = df['text'].apply(split_words)"
   ],
   "metadata": {
    "collapsed": false,
    "pycharm": {
     "name": "#%%\n",
     "is_executing": false
    }
   }
  },
  {
   "cell_type": "code",
   "execution_count": 38,
   "outputs": [
    {
     "data": {
      "text/plain": "      labels  \\\n5197      33   \n612      228   \n2080     286   \n6096      10   \n4918     289   \n\n                                                                                                     text  \\\n5197                                                                   have your grandparents passed away   \n612                          okay now i am going to ask you a couple questions about your medical history   \n2080                                                                             what brings you in today   \n6096  so you have told me that you have a dull ache in your lower back that started wwhen you lifeted ...   \n4918                                               ok so lets talk about this back pain what concerns you   \n\n                                                                                                    split  \n5197                                                             [have, your, grandparents, passed, away]  \n612          [okay, now, i, am, going, to, ask, you, a, couple, questions, about, your, medical, history]  \n2080                                                                       [what, brings, you, in, today]  \n6096  [so, you, have, told, me, that, you, have, a, dull, ache, in, your, lower, back, that, started, ...  \n4918                                   [ok, so, lets, talk, about, this, back, pain, what, concerns, you]  ",
      "text/html": "<div>\n<style scoped>\n    .dataframe tbody tr th:only-of-type {\n        vertical-align: middle;\n    }\n\n    .dataframe tbody tr th {\n        vertical-align: top;\n    }\n\n    .dataframe thead th {\n        text-align: right;\n    }\n</style>\n<table border=\"1\" class=\"dataframe\">\n  <thead>\n    <tr style=\"text-align: right;\">\n      <th></th>\n      <th>labels</th>\n      <th>text</th>\n      <th>split</th>\n    </tr>\n  </thead>\n  <tbody>\n    <tr>\n      <th>5197</th>\n      <td>33</td>\n      <td>have your grandparents passed away</td>\n      <td>[have, your, grandparents, passed, away]</td>\n    </tr>\n    <tr>\n      <th>612</th>\n      <td>228</td>\n      <td>okay now i am going to ask you a couple questions about your medical history</td>\n      <td>[okay, now, i, am, going, to, ask, you, a, couple, questions, about, your, medical, history]</td>\n    </tr>\n    <tr>\n      <th>2080</th>\n      <td>286</td>\n      <td>what brings you in today</td>\n      <td>[what, brings, you, in, today]</td>\n    </tr>\n    <tr>\n      <th>6096</th>\n      <td>10</td>\n      <td>so you have told me that you have a dull ache in your lower back that started wwhen you lifeted ...</td>\n      <td>[so, you, have, told, me, that, you, have, a, dull, ache, in, your, lower, back, that, started, ...</td>\n    </tr>\n    <tr>\n      <th>4918</th>\n      <td>289</td>\n      <td>ok so lets talk about this back pain what concerns you</td>\n      <td>[ok, so, lets, talk, about, this, back, pain, what, concerns, you]</td>\n    </tr>\n  </tbody>\n</table>\n</div>"
     },
     "metadata": {},
     "output_type": "execute_result",
     "execution_count": 38
    }
   ],
   "source": [
    "df.sample(5)"
   ],
   "metadata": {
    "collapsed": false,
    "pycharm": {
     "name": "#%%\n",
     "is_executing": false
    }
   }
  },
  {
   "cell_type": "code",
   "execution_count": 45,
   "outputs": [
    {
     "name": "stderr",
     "text": [
      "c:\\users\\song\\pyvenvs\\venv_twitter\\lib\\site-packages\\ipykernel_launcher.py:1: FutureWarning: Series.data is deprecated and will be removed in a future version\n  \"\"\"Entry point for launching an IPython kernel.\n"
     ],
     "output_type": "stream"
    },
    {
     "data": {
      "text/plain": "334"
     },
     "metadata": {},
     "output_type": "execute_result",
     "execution_count": 45
    }
   ],
   "source": [
    "num_class = len(set(df['labels'].data))\n",
    "num_class"
   ],
   "metadata": {
    "collapsed": false,
    "pycharm": {
     "name": "#%%\n",
     "is_executing": false
    }
   }
  },
  {
   "cell_type": "code",
   "execution_count": 62,
   "outputs": [],
   "source": [
    "def horizontal_line(y):\n",
    "    ax = plt.gca()\n",
    "    xmin, xmax = ax.get_xbound()\n",
    "    l = mlines\n",
    "def ranked_class_density(labels):\n",
    "    num_class = len(set(labels.data))\n",
    "    class_count = [0]*num_class\n",
    "    for i in labels.data:\n",
    "        class_count[i] +=1\n",
    "    class_count_ = []\n",
    "    for i in range(num_class):\n",
    "        class_count_.append((i, class_count[i]))\n",
    "    class_count_.sort(key=lambda x:x[1], reverse=True)\n",
    "    classes = [i[0] for i in class_count_]\n",
    "    counts = [i[1] for i in class_count_]\n",
    "    median = np.median(counts)\n",
    "    minority = 0\n",
    "    print('median'+str(np.median(counts)))\n",
    "    for i in counts:\n",
    "        if i < median:\n",
    "            minority +=1\n",
    "    print(minority)\n",
    "    plt.plot(counts)\n",
    "    plt.show()"
   ],
   "metadata": {
    "collapsed": false,
    "pycharm": {
     "name": "#%%\n",
     "is_executing": false
    }
   }
  },
  {
   "cell_type": "code",
   "execution_count": 63,
   "outputs": [
    {
     "name": "stderr",
     "text": [
      "c:\\users\\song\\pyvenvs\\venv_twitter\\lib\\site-packages\\ipykernel_launcher.py:6: FutureWarning: Series.data is deprecated and will be removed in a future version\n  \nc:\\users\\song\\pyvenvs\\venv_twitter\\lib\\site-packages\\ipykernel_launcher.py:8: FutureWarning: Series.data is deprecated and will be removed in a future version\n  \n"
     ],
     "output_type": "stream"
    },
    {
     "name": "stdout",
     "text": [
      "median7.0\n166\n"
     ],
     "output_type": "stream"
    },
    {
     "data": {
      "text/plain": "<Figure size 432x288 with 1 Axes>",
      "image/png": "[encoded data removed]"
     },
     "metadata": {
      "needs_background": "light"
     },
     "output_type": "display_data"
    }
   ],
   "source": [
    "ranked_class_density(df['labels'])"
   ],
   "metadata": {
    "collapsed": false,
    "pycharm": {
     "name": "#%%\n",
     "is_executing": false
    }
   }
  },
  {
   "cell_type": "code",
   "execution_count": 57,
   "outputs": [
    {
     "name": "stdout",
     "text": [
      "(6827, 3)\n"
     ],
     "output_type": "stream"
    }
   ],
   "source": [
    "print(df.shape)\n"
   ],
   "metadata": {
    "collapsed": false,
    "pycharm": {
     "name": "#%%\n",
     "is_executing": false
    }
   }
  }
 ],
 "metadata": {
  "language_info": {
   "codemirror_mode": {
    "name": "ipython",
    "version": 2
   },
   "file_extension": ".py",
   "mimetype": "text/x-python",
   "name": "python",
   "nbconvert_exporter": "python",
   "pygments_lexer": "ipython2",
   "version": "2.7.6"
  },
  "kernelspec": {
   "name": "python3",
   "language": "python",
   "display_name": "Python 3"
  },
  "pycharm": {
   "stem_cell": {
    "cell_type": "raw",
    "source": [],
    "metadata": {
     "collapsed": false
    }
   }
  }
 },
 "nbformat": 4,
 "nbformat_minor": 0
}