{
 "cells": [
  {
   "cell_type": "code",
   "execution_count": 1,
   "metadata": {
    "collapsed": true,
    "pycharm": {
     "is_executing": false
    }
   },
   "outputs": [
    {
     "name": "stderr",
     "text": [
      "c:\\users\\song\\pyvenvs\\venv_twitter\\lib\\site-packages\\tensorflow\\python\\framework\\dtypes.py:516: FutureWarning: Passing (type, 1) or '1type' as a synonym of type is deprecated; in a future version of numpy, it will be understood as (type, (1,)) / '(1,)type'.\n  _np_qint8 = np.dtype([(\"qint8\", np.int8, 1)])\nc:\\users\\song\\pyvenvs\\venv_twitter\\lib\\site-packages\\tensorflow\\python\\framework\\dtypes.py:517: FutureWarning: Passing (type, 1) or '1type' as a synonym of type is deprecated; in a future version of numpy, it will be understood as (type, (1,)) / '(1,)type'.\n  _np_quint8 = np.dtype([(\"quint8\", np.uint8, 1)])\nc:\\users\\song\\pyvenvs\\venv_twitter\\lib\\site-packages\\tensorflow\\python\\framework\\dtypes.py:518: FutureWarning: Passing (type, 1) or '1type' as a synonym of type is deprecated; in a future version of numpy, it will be understood as (type, (1,)) / '(1,)type'.\n  _np_qint16 = np.dtype([(\"qint16\", np.int16, 1)])\nc:\\users\\song\\pyvenvs\\venv_twitter\\lib\\site-packages\\tensorflow\\python\\framework\\dtypes.py:519: FutureWarning: Passing (type, 1) or '1type' as a synonym of type is deprecated; in a future version of numpy, it will be understood as (type, (1,)) / '(1,)type'.\n  _np_quint16 = np.dtype([(\"quint16\", np.uint16, 1)])\nc:\\users\\song\\pyvenvs\\venv_twitter\\lib\\site-packages\\tensorflow\\python\\framework\\dtypes.py:520: FutureWarning: Passing (type, 1) or '1type' as a synonym of type is deprecated; in a future version of numpy, it will be understood as (type, (1,)) / '(1,)type'.\n  _np_qint32 = np.dtype([(\"qint32\", np.int32, 1)])\nc:\\users\\song\\pyvenvs\\venv_twitter\\lib\\site-packages\\tensorflow\\python\\framework\\dtypes.py:525: FutureWarning: Passing (type, 1) or '1type' as a synonym of type is deprecated; in a future version of numpy, it will be understood as (type, (1,)) / '(1,)type'.\n  np_resource = np.dtype([(\"resource\", np.ubyte, 1)])\n",
      "c:\\users\\song\\pyvenvs\\venv_twitter\\lib\\site-packages\\tensorboard\\compat\\tensorflow_stub\\dtypes.py:541: FutureWarning: Passing (type, 1) or '1type' as a synonym of type is deprecated; in a future version of numpy, it will be understood as (type, (1,)) / '(1,)type'.\n  _np_qint8 = np.dtype([(\"qint8\", np.int8, 1)])\nc:\\users\\song\\pyvenvs\\venv_twitter\\lib\\site-packages\\tensorboard\\compat\\tensorflow_stub\\dtypes.py:542: FutureWarning: Passing (type, 1) or '1type' as a synonym of type is deprecated; in a future version of numpy, it will be understood as (type, (1,)) / '(1,)type'.\n  _np_quint8 = np.dtype([(\"quint8\", np.uint8, 1)])\nc:\\users\\song\\pyvenvs\\venv_twitter\\lib\\site-packages\\tensorboard\\compat\\tensorflow_stub\\dtypes.py:543: FutureWarning: Passing (type, 1) or '1type' as a synonym of type is deprecated; in a future version of numpy, it will be understood as (type, (1,)) / '(1,)type'.\n  _np_qint16 = np.dtype([(\"qint16\", np.int16, 1)])\nc:\\users\\song\\pyvenvs\\venv_twitter\\lib\\site-packages\\tensorboard\\compat\\tensorflow_stub\\dtypes.py:544: FutureWarning: Passing (type, 1) or '1type' as a synonym of type is deprecated; in a future version of numpy, it will be understood as (type, (1,)) / '(1,)type'.\n  _np_quint16 = np.dtype([(\"quint16\", np.uint16, 1)])\nc:\\users\\song\\pyvenvs\\venv_twitter\\lib\\site-packages\\tensorboard\\compat\\tensorflow_stub\\dtypes.py:545: FutureWarning: Passing (type, 1) or '1type' as a synonym of type is deprecated; in a future version of numpy, it will be understood as (type, (1,)) / '(1,)type'.\n  _np_qint32 = np.dtype([(\"qint32\", np.int32, 1)])\nc:\\users\\song\\pyvenvs\\venv_twitter\\lib\\site-packages\\tensorboard\\compat\\tensorflow_stub\\dtypes.py:550: FutureWarning: Passing (type, 1) or '1type' as a synonym of type is deprecated; in a future version of numpy, it will be understood as (type, (1,)) / '(1,)type'.\n  np_resource = np.dtype([(\"resource\", np.ubyte, 1)])\n"
     ],
     "output_type": "stream"
    }
   ],
   "source": [
    "import pandas as pd\n",
    "from string import punctuation\n",
    "import matplotlib.pyplot as plt\n",
    "import matplotlib.lines as mlines\n",
    "import numpy as np\n",
    "import tokenization\n",
    "import copy\n",
    "import json\n",
    "import sqlite3\n",
    "from wordcloud import WordCloud\n",
    "from token_db import *\n",
    "pd.options.display.max_colwidth = 100"
   ]
  },
  {
   "cell_type": "code",
   "execution_count": 2,
   "outputs": [],
   "source": [
    "df = pd.read_csv('./data/new/new_all_nl.tsv', sep='\\t', header=None, names=['labels','text'])"
   ],
   "metadata": {
    "collapsed": false,
    "pycharm": {
     "name": "#%%\n",
     "is_executing": false
    }
   }
  },
  {
   "cell_type": "code",
   "execution_count": 3,
   "outputs": [
    {
     "data": {
      "text/plain": "      labels                                            text\n5059      41  Have you had any thoughts of suicide recently?\n4658     260              Have you used a back brace before?\n3620      29                                 are you healthy\n722       43       what medications are you currently taking\n3775     106                 what other activities do you do",
      "text/html": "<div>\n<style scoped>\n    .dataframe tbody tr th:only-of-type {\n        vertical-align: middle;\n    }\n\n    .dataframe tbody tr th {\n        vertical-align: top;\n    }\n\n    .dataframe thead th {\n        text-align: right;\n    }\n</style>\n<table border=\"1\" class=\"dataframe\">\n  <thead>\n    <tr style=\"text-align: right;\">\n      <th></th>\n      <th>labels</th>\n      <th>text</th>\n    </tr>\n  </thead>\n  <tbody>\n    <tr>\n      <th>5059</th>\n      <td>41</td>\n      <td>Have you had any thoughts of suicide recently?</td>\n    </tr>\n    <tr>\n      <th>4658</th>\n      <td>260</td>\n      <td>Have you used a back brace before?</td>\n    </tr>\n    <tr>\n      <th>3620</th>\n      <td>29</td>\n      <td>are you healthy</td>\n    </tr>\n    <tr>\n      <th>722</th>\n      <td>43</td>\n      <td>what medications are you currently taking</td>\n    </tr>\n    <tr>\n      <th>3775</th>\n      <td>106</td>\n      <td>what other activities do you do</td>\n    </tr>\n  </tbody>\n</table>\n</div>"
     },
     "metadata": {},
     "output_type": "execute_result",
     "execution_count": 3
    }
   ],
   "source": [
    "df.sample(5)"
   ],
   "metadata": {
    "collapsed": false,
    "pycharm": {
     "name": "#%%\n",
     "is_executing": false
    }
   }
  },
  {
   "cell_type": "code",
   "execution_count": 3,
   "outputs": [
    {
     "name": "stdout",
     "text": [
      "6827\n"
     ],
     "output_type": "stream"
    }
   ],
   "source": [
    "print(len(list(df.index)))"
   ],
   "metadata": {
    "collapsed": false,
    "pycharm": {
     "name": "#%%\n",
     "is_executing": false
    }
   }
  },
  {
   "cell_type": "code",
   "execution_count": 4,
   "outputs": [],
   "source": [
    "def decapitalize(string_):\n",
    "    return string_.lower()"
   ],
   "metadata": {
    "collapsed": false,
    "pycharm": {
     "name": "#%%\n",
     "is_executing": false
    }
   }
  },
  {
   "cell_type": "code",
   "execution_count": 5,
   "outputs": [],
   "source": [
    "df['text'] = df['text'].apply(decapitalize)"
   ],
   "metadata": {
    "collapsed": false,
    "pycharm": {
     "name": "#%%\n",
     "is_executing": false
    }
   }
  },
  {
   "cell_type": "code",
   "execution_count": 6,
   "outputs": [
    {
     "data": {
      "text/plain": "      labels  \\\n4336      51   \n622      156   \n2257     255   \n3223      35   \n5554     236   \n\n                                                                              text  \n4336  would you be able to point to where exactly in the middle you feel the pain?  \n622                                                        heart disease or cancer  \n2257                         can you please state your full name and date of birth  \n3223                                             how is the health of your parents  \n5554                                            has it been pretty constant since?  ",
      "text/html": "<div>\n<style scoped>\n    .dataframe tbody tr th:only-of-type {\n        vertical-align: middle;\n    }\n\n    .dataframe tbody tr th {\n        vertical-align: top;\n    }\n\n    .dataframe thead th {\n        text-align: right;\n    }\n</style>\n<table border=\"1\" class=\"dataframe\">\n  <thead>\n    <tr style=\"text-align: right;\">\n      <th></th>\n      <th>labels</th>\n      <th>text</th>\n    </tr>\n  </thead>\n  <tbody>\n    <tr>\n      <th>4336</th>\n      <td>51</td>\n      <td>would you be able to point to where exactly in the middle you feel the pain?</td>\n    </tr>\n    <tr>\n      <th>622</th>\n      <td>156</td>\n      <td>heart disease or cancer</td>\n    </tr>\n    <tr>\n      <th>2257</th>\n      <td>255</td>\n      <td>can you please state your full name and date of birth</td>\n    </tr>\n    <tr>\n      <th>3223</th>\n      <td>35</td>\n      <td>how is the health of your parents</td>\n    </tr>\n    <tr>\n      <th>5554</th>\n      <td>236</td>\n      <td>has it been pretty constant since?</td>\n    </tr>\n  </tbody>\n</table>\n</div>"
     },
     "metadata": {},
     "output_type": "execute_result",
     "execution_count": 6
    }
   ],
   "source": [
    "df.sample(5)"
   ],
   "metadata": {
    "collapsed": false,
    "pycharm": {
     "name": "#%%\n",
     "is_executing": false
    }
   }
  },
  {
   "cell_type": "code",
   "execution_count": 7,
   "outputs": [],
   "source": [
    "def remove_punctuations(string_):\n",
    "    return ''.join(c for c in string_ if c not in punctuation)"
   ],
   "metadata": {
    "collapsed": false,
    "pycharm": {
     "name": "#%%\n",
     "is_executing": false
    }
   }
  },
  {
   "cell_type": "code",
   "execution_count": 8,
   "outputs": [],
   "source": [
    "df['text'] = df['text'].apply(remove_punctuations)"
   ],
   "metadata": {
    "collapsed": false,
    "pycharm": {
     "name": "#%%\n",
     "is_executing": false
    }
   }
  },
  {
   "cell_type": "code",
   "execution_count": 9,
   "outputs": [
    {
     "data": {
      "text/plain": "      labels                                    text\n2941     255     what is your name and date of birth\n5334     270       tell me more about your back pain\n4085     152         have you ever been hospitalized\n4952      31                         are you married\n2131     326  what are your living arrangements like",
      "text/html": "<div>\n<style scoped>\n    .dataframe tbody tr th:only-of-type {\n        vertical-align: middle;\n    }\n\n    .dataframe tbody tr th {\n        vertical-align: top;\n    }\n\n    .dataframe thead th {\n        text-align: right;\n    }\n</style>\n<table border=\"1\" class=\"dataframe\">\n  <thead>\n    <tr style=\"text-align: right;\">\n      <th></th>\n      <th>labels</th>\n      <th>text</th>\n    </tr>\n  </thead>\n  <tbody>\n    <tr>\n      <th>2941</th>\n      <td>255</td>\n      <td>what is your name and date of birth</td>\n    </tr>\n    <tr>\n      <th>5334</th>\n      <td>270</td>\n      <td>tell me more about your back pain</td>\n    </tr>\n    <tr>\n      <th>4085</th>\n      <td>152</td>\n      <td>have you ever been hospitalized</td>\n    </tr>\n    <tr>\n      <th>4952</th>\n      <td>31</td>\n      <td>are you married</td>\n    </tr>\n    <tr>\n      <th>2131</th>\n      <td>326</td>\n      <td>what are your living arrangements like</td>\n    </tr>\n  </tbody>\n</table>\n</div>"
     },
     "metadata": {},
     "output_type": "execute_result",
     "execution_count": 9
    }
   ],
   "source": [
    "df.sample(5)"
   ],
   "metadata": {
    "collapsed": false,
    "pycharm": {
     "name": "#%%\n",
     "is_executing": false
    }
   }
  },
  {
   "cell_type": "code",
   "execution_count": 10,
   "outputs": [],
   "source": [
    "def split_words(string_):\n",
    "    return string_.split(' ')"
   ],
   "metadata": {
    "collapsed": false,
    "pycharm": {
     "name": "#%%\n",
     "is_executing": false
    }
   }
  },
  {
   "cell_type": "code",
   "execution_count": 11,
   "outputs": [],
   "source": [
    "df['split'] = df['text'].apply(split_words)"
   ],
   "metadata": {
    "collapsed": false,
    "pycharm": {
     "name": "#%%\n",
     "is_executing": false
    }
   }
  },
  {
   "cell_type": "code",
   "execution_count": 12,
   "outputs": [
    {
     "data": {
      "text/plain": "      labels                                                     text  \\\n2135     204                                   what is your diet like   \n3107     133                                             do you smoke   \n3994      10  okay is there anything else that is bothering you today   \n1459     252  oh that sounds quite bothersome lets see what we can do   \n5315     291                                   what do you do for fun   \n\n                                                                    split  \n2135                                         [what, is, your, diet, like]  \n3107                                                     [do, you, smoke]  \n3994   [okay, is, there, anything, else, that, is, bothering, you, today]  \n1459  [oh, that, sounds, quite, bothersome, lets, see, what, we, can, do]  \n5315                                        [what, do, you, do, for, fun]  ",
      "text/html": "<div>\n<style scoped>\n    .dataframe tbody tr th:only-of-type {\n        vertical-align: middle;\n    }\n\n    .dataframe tbody tr th {\n        vertical-align: top;\n    }\n\n    .dataframe thead th {\n        text-align: right;\n    }\n</style>\n<table border=\"1\" class=\"dataframe\">\n  <thead>\n    <tr style=\"text-align: right;\">\n      <th></th>\n      <th>labels</th>\n      <th>text</th>\n      <th>split</th>\n    </tr>\n  </thead>\n  <tbody>\n    <tr>\n      <th>2135</th>\n      <td>204</td>\n      <td>what is your diet like</td>\n      <td>[what, is, your, diet, like]</td>\n    </tr>\n    <tr>\n      <th>3107</th>\n      <td>133</td>\n      <td>do you smoke</td>\n      <td>[do, you, smoke]</td>\n    </tr>\n    <tr>\n      <th>3994</th>\n      <td>10</td>\n      <td>okay is there anything else that is bothering you today</td>\n      <td>[okay, is, there, anything, else, that, is, bothering, you, today]</td>\n    </tr>\n    <tr>\n      <th>1459</th>\n      <td>252</td>\n      <td>oh that sounds quite bothersome lets see what we can do</td>\n      <td>[oh, that, sounds, quite, bothersome, lets, see, what, we, can, do]</td>\n    </tr>\n    <tr>\n      <th>5315</th>\n      <td>291</td>\n      <td>what do you do for fun</td>\n      <td>[what, do, you, do, for, fun]</td>\n    </tr>\n  </tbody>\n</table>\n</div>"
     },
     "metadata": {},
     "output_type": "execute_result",
     "execution_count": 12
    }
   ],
   "source": [
    "df.sample(5)"
   ],
   "metadata": {
    "collapsed": false,
    "pycharm": {
     "name": "#%%\n",
     "is_executing": false
    }
   }
  },
  {
   "cell_type": "code",
   "execution_count": 13,
   "outputs": [
    {
     "name": "stderr",
     "text": [
      "c:\\users\\song\\pyvenvs\\venv_twitter\\lib\\site-packages\\ipykernel_launcher.py:1: FutureWarning: Series.data is deprecated and will be removed in a future version\n  \"\"\"Entry point for launching an IPython kernel.\n"
     ],
     "output_type": "stream"
    },
    {
     "data": {
      "text/plain": "334"
     },
     "metadata": {},
     "output_type": "execute_result",
     "execution_count": 13
    }
   ],
   "source": [
    "num_class = len(set(df['labels'].data))\n",
    "num_class"
   ],
   "metadata": {
    "collapsed": false,
    "pycharm": {
     "name": "#%%\n",
     "is_executing": false
    }
   }
  },
  {
   "cell_type": "code",
   "execution_count": 12,
   "outputs": [],
   "source": [
    "def horizontal_line(y):\n",
    "    ax = plt.gca()\n",
    "    xmin, xmax = ax.get_xbound()\n",
    "    l = mlines.Line2D([xmin,340],[y,y],color='r')\n",
    "    ax.add_line(l)\n",
    "    return l\n",
    "def ranked_class_density(labels):\n",
    "    num_class = len(set(labels.data))\n",
    "    class_count = [0]*num_class\n",
    "    for i in labels.data:\n",
    "        class_count[i] +=1\n",
    "    class_count_ = []\n",
    "    for i in range(num_class):\n",
    "        class_count_.append((i, class_count[i]))\n",
    "    class_count_.sort(key=lambda x:x[1], reverse=True)\n",
    "    classes = [i[0] for i in class_count_]\n",
    "    counts = [i[1] for i in class_count_]\n",
    "    median = np.median(counts)\n",
    "\n",
    "    minority_classes = [i[0] for i in class_count_ if i[1]< median]\n",
    "    print('median'+str(np.median(counts)))\n",
    "\n",
    "    print(len(minority_classes))\n",
    "    horizontal_line(median)\n",
    "    plt.plot(counts)\n",
    "    plt.ylabel('Frequency')\n",
    "    plt.title('Ranked frequency of classes of VP16+17Strict')\n",
    "    plt.show()\n",
    "    return (median, minority_classes, counts)"
   ],
   "metadata": {
    "collapsed": false,
    "pycharm": {
     "name": "#%%\n",
     "is_executing": false
    }
   }
  },
  {
   "cell_type": "code",
   "execution_count": 13,
   "outputs": [
    {
     "name": "stdout",
     "text": [
      "median7.0\n166\n"
     ],
     "output_type": "stream"
    },
    {
     "name": "stderr",
     "text": [
      "c:\\users\\song\\pyvenvs\\venv_twitter\\lib\\site-packages\\ipykernel_launcher.py:8: FutureWarning: Series.data is deprecated and will be removed in a future version\n  \nc:\\users\\song\\pyvenvs\\venv_twitter\\lib\\site-packages\\ipykernel_launcher.py:10: FutureWarning: Series.data is deprecated and will be removed in a future version\n  # Remove the CWD from sys.path while we load stuff.\n"
     ],
     "output_type": "stream"
    },
    {
     "data": {
      "text/plain": "<Figure size 432x288 with 1 Axes>",
      "image/png": "[encoded data removed]"
     },
     "metadata": {
      "needs_background": "light"
     },
     "output_type": "display_data"
    }
   ],
   "source": [
    "median, minority_classes, counts=ranked_class_density(df['labels'])"
   ],
   "metadata": {
    "collapsed": false,
    "pycharm": {
     "name": "#%%\n",
     "is_executing": false
    }
   }
  },
  {
   "cell_type": "code",
   "execution_count": 9,
   "outputs": [
    {
     "name": "stdout",
     "text": [
      "[206, 187, 173, 149, 137, 137, 129, 126, 125, 117, 114, 109, 107, 105, 99, 99, 98, 92, 90, 87, 85, 82, 81, 78, 78, 77, 75, 74, 73, 71, 68, 66, 60, 58, 57, 56, 53, 52, 51, 48, 48, 48, 47, 46, 44, 44, 42, 42, 41, 40, 40, 39, 38, 37, 36, 36, 36, 35, 34, 34, 34, 34, 34, 33, 33, 32, 32, 32, 31, 29, 29, 29, 27, 26, 25, 25, 25, 25, 24, 24, 24, 24, 23, 23, 23, 22, 22, 22, 22, 21, 21, 21, 20, 20, 20, 20, 19, 19, 18, 17, 17, 16, 16, 16, 16, 16, 16, 15, 15, 15, 15, 15, 15, 14, 14, 14, 13, 13, 13, 13, 13, 13, 12, 12, 12, 12, 11, 11, 11, 11, 11, 11, 10, 10, 10, 10, 10, 10, 10, 10, 9, 9, 9, 9, 9, 9, 8, 8, 8, 8, 8, 8, 8, 8, 8, 7, 7, 7, 7, 7, 7, 7, 7, 7, 7, 7, 7, 7, 6, 6, 6, 6, 6, 6, 6, 6, 6, 6, 6, 6, 5, 5, 5, 5, 5, 5, 5, 5, 5, 5, 5, 5, 5, 5, 5, 5, 4, 4, 4, 4, 4, 4, 4, 4, 4, 4, 4, 4, 4, 4, 4, 4, 4, 4, 4, 4, 4, 4, 4, 3, 3, 3, 3, 3, 3, 3, 3, 3, 3, 3, 3, 3, 3, 3, 3, 3, 3, 3, 3, 3, 3, 3, 3, 2, 2, 2, 2, 2, 2, 2, 2, 2, 2, 2, 2, 2, 2, 2, 2, 2, 2, 2, 2, 2, 2, 2, 2, 2, 2, 2, 2, 2, 2, 2, 2, 2, 2, 2, 2, 2, 2, 2, 2, 2, 2, 2, 2, 2, 2, 1, 1, 1, 1, 1, 1, 1, 1, 1, 1, 1, 1, 1, 1, 1, 1, 1, 1, 1, 1, 1, 1, 1, 1, 1, 1, 1, 1, 1, 1, 1, 1, 1, 1, 1, 1, 1, 1, 1, 1, 1, 1, 1, 1, 1]\n32.475799483330135\n"
     ],
     "output_type": "stream"
    }
   ],
   "source": [
    "print(counts)\n",
    "print(np.std(counts))"
   ],
   "metadata": {
    "collapsed": false,
    "pycharm": {
     "name": "#%%%\n",
     "is_executing": false
    }
   }
  },
  {
   "cell_type": "code",
   "execution_count": 3,
   "outputs": [
    {
     "name": "stdout",
     "text": [
      "WARNING:tensorflow:From C:\\Users\\song\\PycharmProjects\\vp-cnn\\vpcnn\\tokenization.py:125: The name tf.gfile.GFile is deprecated. Please use tf.io.gfile.GFile instead.\n\n"
     ],
     "output_type": "stream"
    }
   ],
   "source": [
    "# bert tokenizer\n",
    "bert_tokenizor = tokenization.FullTokenizer('./data/bert_embeddings/vocab.txt')"
   ],
   "metadata": {
    "collapsed": false,
    "pycharm": {
     "name": "#%%\n",
     "is_executing": false
    }
   }
  },
  {
   "cell_type": "code",
   "execution_count": 4,
   "outputs": [],
   "source": [
    "text_series = copy.deepcopy(df['text'])\n",
    "text_series = text_series.apply(bert_tokenizor.tokenize)\n",
    "df['bert_token'] = text_series"
   ],
   "metadata": {
    "collapsed": false,
    "pycharm": {
     "name": "#%%\n",
     "is_executing": false
    }
   }
  },
  {
   "cell_type": "code",
   "execution_count": 5,
   "outputs": [
    {
     "data": {
      "text/plain": "<Figure size 432x288 with 1 Axes>",
      "image/png": "[encoded data removed]"
     },
     "metadata": {
      "needs_background": "light"
     },
     "output_type": "display_data"
    }
   ],
   "source": [
    "list_of_sentences = text_series.to_list()\n",
    "allcorpus = ''\n",
    "list_token = []\n",
    "for sentence in list_of_sentences:\n",
    "    for word in sentence:\n",
    "        allcorpus += word+' '\n",
    "        list_token.append(word)\n",
    "wc = WordCloud(width=1024, height=768, margin=0).generate(allcorpus)\n",
    "\n",
    "plt.imshow(wc, interpolation='bilinear')\n",
    "plt.axis('off')\n",
    "plt.margins(x=0, y=0)\n",
    "plt.show()"
   ],
   "metadata": {
    "collapsed": false,
    "pycharm": {
     "name": "#%%\n",
     "is_executing": false
    }
   }
  },
  {
   "cell_type": "code",
   "execution_count": 17,
   "outputs": [
    {
     "name": "stdout",
     "text": [
      "62954\n2266\nFalse\n)\n"
     ],
     "output_type": "stream"
    }
   ],
   "source": [
    "print(len(list_token))\n",
    "print(len(set(list_token)))\n",
    "print('[CLS]' in list_token)\n",
    "for token in set(list_token):\n",
    "    for i in token:\n",
    "        if i in [')']:\n",
    "            print(token)"
   ],
   "metadata": {
    "collapsed": false,
    "pycharm": {
     "name": "#%%\n",
     "is_executing": false
    }
   }
  },
  {
   "cell_type": "code",
   "execution_count": 14,
   "outputs": [
    {
     "name": "stdout",
     "text": [
      "True\n"
     ],
     "output_type": "stream"
    }
   ],
   "source": [
    "print('##sit' in set(list_token))"
   ],
   "metadata": {
    "collapsed": false,
    "pycharm": {
     "name": "#%%\n",
     "is_executing": false
    }
   }
  },
  {
   "cell_type": "code",
   "execution_count": 21,
   "outputs": [
    {
     "data": {
      "text/plain": "{'beverages',\n 'valid',\n 'intake',\n 'agenda',\n 'people',\n '##ici',\n 'friend',\n 'parents',\n 'gone',\n 'help',\n 'university',\n 'injuries',\n 'sc',\n 'romantic',\n 'body',\n 'there',\n 'feels',\n 'remained',\n 'play',\n 'illnesses',\n 'learning',\n 'clearly',\n 'anymore',\n 'classify',\n 'locking',\n 'background',\n 'student',\n 'medications',\n 'er',\n 'confidential',\n 'ito',\n 'been',\n 'finding',\n 'water',\n 'details',\n 'sexuality',\n 'lifetime',\n 'trust',\n '##air',\n 'coarse',\n 'alleviate',\n 'plenty',\n 'mei',\n 'start',\n 'concerned',\n 'single',\n '##mes',\n '##lized',\n 'mom',\n '##js',\n 'intercourse',\n 'concern',\n 'aren',\n 'operations',\n 'difficulty',\n 'shooting',\n '##lia',\n 'glad',\n '##bling',\n 'helpless',\n 'grandparents',\n '##ase',\n '##tial',\n 'overwhelmed',\n 'employer',\n 'huh',\n 'cars',\n 'schedule',\n '##work',\n 'unfortunate',\n 'swallowing',\n 'infection',\n 'injured',\n 'promise',\n 'be',\n 'webber',\n '##ites',\n 'dull',\n 'education',\n 'well',\n 'dizzy',\n '##ors',\n 'currently',\n 'typically',\n '##pies',\n 'remind',\n 'lot',\n 'on',\n 'cover',\n 'make',\n '##d',\n '##min',\n 'melanie',\n 'alone',\n 'pee',\n '##rand',\n 'unpleasant',\n 'ago',\n 'interfered',\n 'noteworthy',\n 'joints',\n 'hazards',\n 'years',\n 'fall',\n 'interviewing',\n 'isn',\n 'disc',\n 'megan',\n 'campbell',\n 'illness',\n 'melissa',\n '##rek',\n '##cho',\n 'direct',\n '2',\n 'inhibit',\n 'days',\n 'titus',\n 'highest',\n 'store',\n 'fantastic',\n 'ten',\n '##ial',\n 'routine',\n 'enjoy',\n 'shallow',\n 'now',\n 'os',\n 'fr',\n 'performing',\n 'clinic',\n 'thought',\n 'increase',\n 'pain',\n 'spread',\n 'minutes',\n 'rep',\n 'in',\n 'tell',\n 'up',\n 're',\n 'anxiety',\n '##tera',\n '##fen',\n 'park',\n '##yt',\n 'mouth',\n '##et',\n 'yo',\n 'extremely',\n '##sc',\n '##rg',\n 'severity',\n 'etc',\n 'support',\n 'bend',\n 'prescription',\n 'goals',\n 'contribute',\n 'step',\n '25',\n 'healthy',\n 'clear',\n 'yep',\n 'hurting',\n 'hi',\n 'frustrated',\n 'baby',\n 'ho',\n 'ordinary',\n 'him',\n 'partners',\n 'didn',\n 'unless',\n 'everyone',\n 'answer',\n 'dangerous',\n 'odi',\n 'result',\n 'record',\n 'bothering',\n '##nic',\n '##fe',\n 'attitude',\n 'urge',\n 'soda',\n 'persisted',\n 'tha',\n '##fi',\n '##enes',\n 'fell',\n 'line',\n 'ou',\n 'group',\n 'covering',\n 'anytime',\n 'sensation',\n 'birth',\n 'grandmother',\n 'sides',\n '##gra',\n 'valerie',\n 'like',\n '##dt',\n '##inated',\n 'associated',\n 'maintain',\n '##ne',\n '##hta',\n 'root',\n 'physical',\n '##ch',\n 'most',\n 'self',\n '##ien',\n 'think',\n 'else',\n 'told',\n 'says',\n 'duration',\n 'care',\n 'personal',\n '##roi',\n '##ling',\n 'prior',\n 'case',\n 'verify',\n 'ins',\n '##rist',\n 'were',\n 't',\n '##bbies',\n '##ll',\n 'used',\n '##ken',\n 'hospitals',\n 'api',\n 'u',\n 'main',\n 'star',\n 'enjoyment',\n 'st',\n 'wine',\n 'drinks',\n 'dail',\n '##ion',\n 'point',\n 'old',\n '##yna',\n '##le',\n 'paternal',\n 'treatments',\n 'came',\n 'muscles',\n '##nt',\n 'olivia',\n 'p',\n 'leisure',\n 'dia',\n 'additional',\n '##con',\n 'neighborhood',\n 'access',\n 'sara',\n 'vegetables',\n 'foods',\n 'initial',\n 'closer',\n '##kk',\n 'prevent',\n 'strain',\n 'substances',\n '##ol',\n '##py',\n '101',\n 'those',\n '##vr',\n '##ice',\n 'ri',\n 'obligation',\n 'engage',\n 'supervising',\n 'date',\n 'hope',\n 'bee',\n 'she',\n 'together',\n 'detail',\n 'es',\n 'daniel',\n '##pa',\n 'ages',\n '##tions',\n 'chief',\n '##ever',\n 'score',\n 'des',\n 'relationships',\n '##e',\n '##fr',\n 'spouse',\n '##rou',\n 'dd',\n '##ating',\n 'sum',\n 'coping',\n '##tate',\n 'tyson',\n 'instances',\n 'had',\n 'solution',\n '##ht',\n 'beside',\n 'mild',\n 'accomplished',\n 'get',\n 'neat',\n '##pf',\n 'served',\n 'prevents',\n 'their',\n 'mechanic',\n '##cer',\n 'sur',\n 'socially',\n 'found',\n '##sd',\n 'benefit',\n '##o',\n 'than',\n '##ep',\n 'setting',\n 'garage',\n '##ant',\n '##re',\n 'ag',\n 'done',\n 'im',\n 'little',\n 'colon',\n 'preventing',\n 'stopping',\n 'moved',\n 'note',\n 'causing',\n 'evening',\n 'patterns',\n '##up',\n 'not',\n 'meeting',\n '##lization',\n 'weights',\n 'other',\n '##ville',\n '##ent',\n 'encounter',\n 'appointment',\n 'pri',\n 'gotten',\n 'spiritual',\n 'hal',\n 'spending',\n 'laos',\n 'physically',\n '##ri',\n 'five',\n 'far',\n '##tre',\n 'happened',\n 'visited',\n '##per',\n 'em',\n 'jay',\n 'applied',\n 'muscle',\n '##ted',\n 'ye',\n 'thank',\n 'ache',\n 'safe',\n 'children',\n 'movements',\n 'tyler',\n 'lal',\n 'worried',\n 'efficiently',\n 'digest',\n '##a',\n 'do',\n 'subsided',\n 'prevented',\n 'exercise',\n 'seeing',\n 'reminder',\n 'goodbye',\n 'sharing',\n 'obligations',\n 'avoid',\n '##pt',\n '##vid',\n '##rar',\n '##ts',\n '##sit',\n '##hr',\n 'went',\n '##ibe',\n 'onto',\n 'wow',\n 'hs',\n 'ty',\n 'strained',\n 'forward',\n 'physicians',\n '##ij',\n 'd',\n '##idi',\n '##nated',\n 'require',\n '##oh',\n 'should',\n 'inter',\n 'men',\n 'consistent',\n 'cho',\n 'multi',\n 'further',\n 'someone',\n 'diana',\n '##hra',\n 'red',\n 'psycho',\n 'ot',\n 'lives',\n 'wrong',\n 'by',\n 'absolutely',\n 'concentrated',\n 'dec',\n 'continued',\n '##ro',\n 'auto',\n 'football',\n 'take',\n 'private',\n 'ry',\n 'awesome',\n '##ns',\n 'routines',\n 'urgent',\n 'best',\n 'un',\n 'worrying',\n 'chemical',\n 'arrives',\n 'add',\n 'sound',\n 'increased',\n 'visits',\n '##tina',\n 'inspect',\n 'died',\n 'social',\n 'hello',\n 'my',\n '##al',\n 'allotted',\n 'down',\n 'storage',\n 'mo',\n 'occurs',\n 'kyle',\n 'questions',\n 'sugar',\n 'af',\n 'west',\n 'wear',\n 'quick',\n 'sydney',\n 'outcome',\n '##ced',\n 'leads',\n 'per',\n 'severely',\n 'even',\n '##uo',\n '##su',\n 'happen',\n '##ng',\n 'whenever',\n 'surgery',\n 'happening',\n 'characteristics',\n 'man',\n 'treatment',\n 'mater',\n 'obtain',\n 'heavy',\n '##nl',\n 'decide',\n 'awful',\n 'stool',\n '##ari',\n 'assist',\n 'recreational',\n 'infections',\n 'status',\n 'stiff',\n 'kill',\n 'hurt',\n 'aside',\n 'fur',\n 'can',\n '##inen',\n 'mis',\n 'russell',\n 'its',\n 'summary',\n 'id',\n 'off',\n 'military',\n 'ann',\n 'then',\n 'course',\n 'places',\n 'alcohol',\n 'ya',\n '##ii',\n 'review',\n 'discharge',\n 'sa',\n 'inability',\n '##uti',\n '##pu',\n 'surge',\n 'la',\n 'helps',\n 'arrangements',\n 'privacy',\n 'ohio',\n 'either',\n 'mediation',\n '##vino',\n 'finger',\n 'interview',\n 'does',\n 'surprised',\n 'daughters',\n '##rba',\n 'deeper',\n 'office',\n 'roommate',\n '##os',\n 'ra',\n 'vary',\n 'helping',\n 'completely',\n 'chest',\n 'oh',\n 'sir',\n 'burn',\n 'very',\n 'frequent',\n 'mornings',\n 'provide',\n 'finished',\n 'strengthen',\n 'abdominal',\n 'rs',\n 'expand',\n '##inating',\n 'thanks',\n 'area',\n 'hopes',\n 'remain',\n 'often',\n 'lying',\n '##ness',\n 'figuring',\n 'muscular',\n 'herbal',\n '##iza',\n 'understood',\n 'missed',\n 'sitting',\n 'improve',\n 'twist',\n 'admitted',\n 'asking',\n 'heart',\n 'present',\n 'belt',\n 'first',\n '##li',\n 'large',\n 'could',\n 'suicide',\n 'wi',\n '##sor',\n '##rea',\n '##y',\n 'awkward',\n 'cigar',\n 'improvements',\n 'supplements',\n 'employment',\n '##nus',\n 'changing',\n '##men',\n 'episodes',\n 'religious',\n 'parts',\n 'apartment',\n 'forms',\n 'lift',\n '##ff',\n 'sha',\n 'fee',\n 'context',\n '##vil',\n 'holding',\n '##ir',\n 'interests',\n 'different',\n 'aunt',\n 'onset',\n 'needing',\n 'robert',\n 'stored',\n '##ly',\n 'engaging',\n 'wilkins',\n 'speak',\n 'noticed',\n 'sleeping',\n 'taken',\n 'feet',\n 'ryan',\n 'suddenly',\n 'honest',\n '710',\n 'sorry',\n 'and',\n 'worries',\n 'emphasize',\n 'alex',\n 'lots',\n 'ti',\n 'buck',\n 'we',\n 'friends',\n '##out',\n 'making',\n 'agree',\n 'know',\n '##mit',\n '##ist',\n 'drug',\n 'tb',\n 'felt',\n 'all',\n 'afraid',\n 'screening',\n 'bet',\n 'ahead',\n 'next',\n '##isance',\n 'difficulties',\n 'previous',\n '##hes',\n 'gets',\n 'overall',\n 'feel',\n '##ose',\n '##ised',\n '##ity',\n 'watch',\n 'form',\n 'imp',\n 'ci',\n 'routinely',\n 'of',\n '##kis',\n 'drink',\n 'begin',\n 'screened',\n 'anybody',\n '##eye',\n 'undergone',\n 'wanted',\n 'bae',\n 'risk',\n 'walk',\n 'affects',\n 'function',\n 'team',\n 'activity',\n 'fix',\n 'quality',\n 'sons',\n 'ali',\n 'good',\n 'occur',\n '##pi',\n 'diffuse',\n '##ies',\n 'vitamin',\n 'situation',\n 'ak',\n 'educational',\n 'confined',\n '##ds',\n 'catherine',\n 'products',\n 'list',\n '##ncia',\n 'host',\n 'fixed',\n 'complications',\n '##ito',\n 'something',\n 'satisfied',\n 'given',\n 'who',\n 'move',\n '##za',\n 'sy',\n 'ta',\n 'you',\n 'supervisor',\n 'some',\n 'diagnosis',\n 'answering',\n 'updates',\n 'yes',\n 'experienced',\n '##bor',\n 'breathing',\n '##tri',\n 'yeah',\n 'bouts',\n 'min',\n 'behaviors',\n 'tobacco',\n 'relax',\n 'major',\n 'gender',\n '##gling',\n 'central',\n 'basic',\n 'our',\n 'th',\n 'nik',\n 'eve',\n '##ee',\n 'improves',\n 'site',\n 'particular',\n 'hat',\n '##mind',\n 'localized',\n 'watkins',\n 'college',\n 'four',\n '##el',\n '##ting',\n '##tion',\n '##ins',\n 'coming',\n '##some',\n '##ations',\n 'several',\n 'serious',\n 'side',\n '##ei',\n 'sm',\n 'through',\n 'intermittent',\n 'morning',\n 'yearly',\n 'fever',\n 'ones',\n 'with',\n 'rest',\n 'house',\n 'expected',\n '##ati',\n 'steps',\n '##tension',\n 'stepping',\n '##f',\n 'name',\n 'medicines',\n 'answers',\n 'dan',\n '##lp',\n 'diagnosed',\n 'close',\n '##ries',\n 'accurate',\n 'times',\n 'labor',\n '##la',\n 'warmth',\n 'tab',\n 'kevin',\n '##belt',\n 'smell',\n 'appropriate',\n 'when',\n '##back',\n 'scale',\n 'life',\n '##ce',\n 'insight',\n 'ff',\n 'hopefully',\n 'toll',\n 'rachel',\n 'habits',\n 'please',\n 'concerning',\n 'school',\n 'series',\n 'previously',\n '##vita',\n 'meet',\n 'months',\n 'changed',\n 'burning',\n 'product',\n 'use',\n 'guns',\n '##ju',\n 'stretching',\n 'pediatric',\n 'te',\n '##so',\n 'participated',\n 'somewhat',\n 'lets',\n 'w',\n 'directed',\n 'i',\n 'talked',\n '##s',\n 'choice',\n 'stone',\n '##arte',\n 'workplace',\n 'illicit',\n 'wish',\n 'rec',\n 'recently',\n 'rt',\n 'balanced',\n 'quite',\n '##ap',\n 'lit',\n 'assure',\n '##io',\n 'moving',\n '##ried',\n 'lasted',\n '##ni',\n 'otherwise',\n 'progressed',\n 'cause',\n 'cow',\n '##ing',\n 'males',\n 'dos',\n '##gur',\n 'odin',\n 'including',\n 'way',\n '##ld',\n 'ao',\n 'loud',\n '##sti',\n 'laura',\n 'lie',\n 'letting',\n 'opening',\n 'pa',\n '##p',\n '##ac',\n 'come',\n 'at',\n 'history',\n 'ss',\n 'never',\n 'inherit',\n '##fide',\n 'tr',\n 'de',\n 'attending',\n 'every',\n 'tough',\n 'deal',\n '##us',\n '##oms',\n '##itt',\n '##ssi',\n 'believe',\n 'constantly',\n 'y',\n 'larger',\n '##cos',\n 'pat',\n 'substance',\n '##ot',\n 'int',\n 'am',\n 'goal',\n 'excellent',\n '##eth',\n 'quest',\n 'rate',\n 'experiencing',\n 'jamie',\n 'cool',\n 'tooth',\n 'occurred',\n 'ongoing',\n 'andy',\n 'ui',\n 'sports',\n 'mr',\n '##oc',\n 'afternoon',\n 'street',\n 'va',\n 'dating',\n '##lo',\n 'wondering',\n '##amps',\n 'couch',\n '##efe',\n 'vision',\n 'ur',\n 'mri',\n 'become',\n 'employed',\n 'jo',\n 'productivity',\n 'bad',\n 'run',\n '##on',\n 'focus',\n 'dt',\n 'mostly',\n '##st',\n 'weeks',\n 'getting',\n 'owner',\n '##cs',\n 'known',\n 'prefer',\n 'dated',\n 'three',\n 'frequency',\n 'sometimes',\n 'ave',\n '##te',\n 'tack',\n 'weakness',\n 'goin',\n '##ino',\n 'headache',\n 'apologize',\n 'age',\n 'others',\n '##tel',\n 'trying',\n '##rret',\n 'mood',\n 'don',\n 'isolated',\n 'change',\n 'how',\n 'wouldn',\n 'diabetes',\n 'surgical',\n 'recall',\n 'spend',\n '##cies',\n 'wei',\n 'imagine',\n '##nd',\n 'causes',\n 'have',\n 'types',\n '##wo',\n '##gh',\n 'did',\n 'leave',\n 'cup',\n '##pres',\n 'patient',\n '##ment',\n ...}"
     },
     "metadata": {},
     "output_type": "execute_result",
     "execution_count": 21
    }
   ],
   "source": [
    "# set(list_token)"
   ],
   "metadata": {
    "collapsed": false,
    "pycharm": {
     "name": "#%%\n",
     "is_executing": false
    }
   }
  },
  {
   "cell_type": "code",
   "execution_count": 52,
   "outputs": [],
   "source": [
    "class TokenLevelCounter:\n",
    "    \"\"\"\n",
    "    This class serves as a dictionary of all tokens, maintaining a count for each bert token in the corpus and their \n",
    "    corresponding embedding vector\n",
    "    \"\"\"\n",
    "    def __init__(self, list_token):\n",
    "        \"\"\"\n",
    "        Takes a list of tokenized corpus to build object\n",
    "        :param list_token: list of bert token\n",
    "        \"\"\"\n",
    "        keys = set(list_token)\n",
    "        # we use a dictionary of token to store the information\n",
    "        # the key of token_dict is the token it-self\n",
    "        self.token_dict = {}\n",
    "        \n",
    "        # we use a dictionary to store the bert embedding for each layer of the same token\n",
    "        # the key of layers dictionary is an integer ranging from -1 to -12, representing the index of the bert layer\n",
    "        # each value of the dictionary item is a list, contains the embedding from this layer of the correspond token\n",
    "        # among the entire corpus\n",
    "        layers = {}\n",
    "        for i in range(-1,-13,-1):\n",
    "            layers[i] = []\n",
    "        # in token_dict, each value is a tuple of 2, the first element is integer refering to the number of occurance \n",
    "        # of the key token; the second element is an layers dictionary containing the bert embeddings of the token\n",
    "        for token in keys:\n",
    "            self.token_dict[token] = [0, copy.deepcopy(layers)]\n",
    "        for token in list_token:\n",
    "            self.token_dict[token][0] += 1\n",
    "        # add [CLS] token\n",
    "        self.token_dict['[CLS]'] = [0, copy.deepcopy(layers)]\n",
    "    def add_token(self, token):\n",
    "        if token not in self.token_dict.keys():\n",
    "            layers = {}\n",
    "            for i in range(-1,-13,-1):\n",
    "                layers[i] = []\n",
    "            self.token_dict[token] = [0, layers]\n",
    "    def plot_token_statistics(self, border_line='median'):\n",
    "        items = list(self.token_dict.items())\n",
    "        items.sort(key=lambda x:x[1][0], reverse=True)\n",
    "        print(items)\n",
    "        count = [i[1][0] for i in items]\n",
    "        if border_line == 'median':\n",
    "            border = np.median(count)\n",
    "        elif border_line == 'mean':\n",
    "            border = np.mean(count)\n",
    "        elif isinstance(border_line, (int, float)):\n",
    "            border = border_line\n",
    "        else:\n",
    "            border = 0\n",
    "        horizontal_line(border)\n",
    "        plt.plot(count)\n",
    "        minority = [i for i in items if i[1][0]<border]\n",
    "        return border, minority\n",
    "    def load_bert_embedding_via_json(self, json_path='./data/bert_embeddings_json_new/train_feature.json'):\n",
    "        with open(json_path) as file:\n",
    "            line_count = 0\n",
    "            for line in file.readlines():\n",
    "                line_count += 1\n",
    "                line_dict = json.loads(line)\n",
    "                features = line_dict['features']\n",
    "                for word_token in features:\n",
    "                    for embedding_layer in word_token['layers']:\n",
    "                        try:\n",
    "                            self.token_dict[word_token['token']][1][embedding_layer['index']].append(embedding_layer['values'])\n",
    "                        except KeyError:\n",
    "                            self.add_token(word_token['token'])\n",
    "                            self.token_dict[word_token['token']][1][embedding_layer['index']].append(embedding_layer['values'])\n",
    "                        # print(self.token_dict[word_token['token']])\n",
    "    @classmethod\n",
    "    def from_kv_list(cls, kv_list):\n",
    "        \"\"\"\n",
    "        return object from a list of key, value tuples\n",
    "        :param kv_list: list of key, value tuples; key refers to token, \n",
    "        value refers to a list containing two element, as we have shown in the init function\n",
    "        :return: a instance of TokenLevelCounter\n",
    "        \"\"\"\n",
    "        result = cls(list_token=[])\n",
    "        for key, value in kv_list:\n",
    "            result.token_dict[key] = value\n",
    "        return result"
   ],
   "metadata": {
    "collapsed": false,
    "pycharm": {
     "name": "#%%\n",
     "is_executing": false
    }
   }
  },
  {
   "cell_type": "code",
   "execution_count": 2,
   "outputs": [],
   "source": [
    "db = BERTDBProcessor()"
   ],
   "metadata": {
    "collapsed": false,
    "pycharm": {
     "name": "#%%\n",
     "is_executing": false
    }
   }
  },
  {
   "cell_type": "code",
   "execution_count": null,
   "outputs": [
    {
     "name": "stdout",
     "text": [
      "Current Progress 0/6827, has already work on job for 24.952093362808228, estimated end in 170347.94138789177 sec\n",
      "Current Progress 100/6827, has already work on job for 166.77315068244934, estimated end in 11107.7523231766 sec\n"
     ],
     "output_type": "stream"
    }
   ],
   "source": [
    "db.create_dataset_table('vp16')\n",
    "db.load_dataset('./data/bert_embeddings_json_new/train_feature.json', 'vp16')"
   ],
   "metadata": {
    "collapsed": false,
    "pycharm": {
     "name": "#%%\n",
     "is_executing": true
    }
   }
  },
  {
   "cell_type": "code",
   "execution_count": 4,
   "outputs": [
    {
     "name": "stdout",
     "text": [
      "('table', 'BERT', 'BERT', 2, 'CREATE TABLE BERT (dataset TEXT PRIMARY KEY)')\n('table', 'vp16', 'vp16', 5, 'CREATE TABLE vp16 (token TEXT PRIMARY KEY, count INT)')\n('table', 'vp16_cls', 'vp16_cls', 7, 'CREATE TABLE vp16_cls (layer TEXT, embedding TEXT, lineidx INT, positionidx INT)')\n('table', 'vp16_any', 'vp16_any', 8, 'CREATE TABLE vp16_any (layer TEXT, embedding TEXT, lineidx INT, positionidx INT)')\n('table', 'vp16_changes', 'vp16_changes', 40, 'CREATE TABLE vp16_changes (layer TEXT, embedding TEXT, lineidx INT, positionidx INT)')\n('table', 'vp16_in', 'vp16_in', 71, 'CREATE TABLE vp16_in (layer TEXT, embedding TEXT, lineidx INT, positionidx INT)')\n('table', 'vp16_your', 'vp16_your', 102, 'CREATE TABLE vp16_your (layer TEXT, embedding TEXT, lineidx INT, positionidx INT)')\n('table', 'vp16_diet', 'vp16_diet', 133, 'CREATE TABLE vp16_diet (layer TEXT, embedding TEXT, lineidx INT, positionidx INT)')\n('table', 'vp16_SEP', 'vp16_SEP', 164, 'CREATE TABLE vp16_SEP (layer TEXT, embedding TEXT, lineidx INT, positionidx INT)')\n"
     ],
     "output_type": "stream"
    }
   ],
   "source": [
    "db.list_tables()"
   ],
   "metadata": {
    "collapsed": false,
    "pycharm": {
     "name": "#%%\n",
     "is_executing": false
    }
   }
  },
  {
   "cell_type": "code",
   "execution_count": 3,
   "outputs": [],
   "source": [
    "db.drop_tables()"
   ],
   "metadata": {
    "collapsed": false,
    "pycharm": {
     "name": "#%%\n",
     "is_executing": false
    }
   }
  },
  {
   "cell_type": "code",
   "execution_count": 6,
   "outputs": [
    {
     "traceback": [
      "\u001b[1;31m---------------------------------------------------------------------------\u001b[0m",
      "\u001b[1;31mNameError\u001b[0m                                 Traceback (most recent call last)",
      "\u001b[1;32m<ipython-input-6-c3f707ff7b9f>\u001b[0m in \u001b[0;36m<module>\u001b[1;34m\u001b[0m\n\u001b[1;32m----> 1\u001b[1;33m \u001b[0mtc\u001b[0m \u001b[1;33m=\u001b[0m \u001b[0mTokenLevelCounter\u001b[0m\u001b[1;33m(\u001b[0m\u001b[0mlist_token\u001b[0m\u001b[1;33m)\u001b[0m\u001b[1;33m\u001b[0m\u001b[1;33m\u001b[0m\u001b[0m\n\u001b[0m\u001b[0;32m      2\u001b[0m \u001b[0mmedian\u001b[0m\u001b[1;33m,\u001b[0m \u001b[0mminority\u001b[0m\u001b[1;33m,\u001b[0m \u001b[0mcount\u001b[0m \u001b[1;33m=\u001b[0m \u001b[0mtc\u001b[0m\u001b[1;33m.\u001b[0m\u001b[0mplot_token_statistics\u001b[0m\u001b[1;33m(\u001b[0m\u001b[1;34m'mean'\u001b[0m\u001b[1;33m)\u001b[0m\u001b[1;33m\u001b[0m\u001b[1;33m\u001b[0m\u001b[0m\n\u001b[0;32m      3\u001b[0m \u001b[0mprint\u001b[0m\u001b[1;33m(\u001b[0m\u001b[0mmedian\u001b[0m\u001b[1;33m)\u001b[0m\u001b[1;33m\u001b[0m\u001b[1;33m\u001b[0m\u001b[0m\n\u001b[0;32m      4\u001b[0m \u001b[0mprint\u001b[0m\u001b[1;33m(\u001b[0m\u001b[0mlen\u001b[0m\u001b[1;33m(\u001b[0m\u001b[0mminority\u001b[0m\u001b[1;33m)\u001b[0m\u001b[1;33m)\u001b[0m\u001b[1;33m\u001b[0m\u001b[1;33m\u001b[0m\u001b[0m\n\u001b[0;32m      5\u001b[0m \u001b[1;33m\u001b[0m\u001b[0m\n",
      "\u001b[1;31mNameError\u001b[0m: name 'TokenLevelCounter' is not defined"
     ],
     "ename": "NameError",
     "evalue": "name 'TokenLevelCounter' is not defined",
     "output_type": "error"
    }
   ],
   "source": [
    "            \n",
    "            \n",
    "tc = TokenLevelCounter(list_token)\n",
    "median, minority = tc.plot_token_statistics('mean')\n",
    "print(median)\n",
    "print(len(minority))"
   ],
   "metadata": {
    "collapsed": false,
    "pycharm": {
     "name": "#%%\n",
     "is_executing": false
    }
   }
  },
  {
   "cell_type": "code",
   "execution_count": null,
   "outputs": [
    {
     "name": "stdout",
     "text": [
      "0\n1\n2\n3\n4\n5\n6\n7\n8\n",
      "9\n10\n11\n12\n13\n14\n15\n16\n17\n18\n19\n20\n21\n22\n",
      "23\n24\n25\n26\n27\n28\n29\n30\n",
      "31\n32\n33\n34\n",
      "35\n36\n37\n38\n39\n40\n41\n",
      "42\n43\n44\n45\n46\n47\n48\n",
      "49\n50\n51\n52\n53\n54\n55\n56\n57\n",
      "58\n59\n60\n61\n62\n63\n64\n",
      "65\n66\n67\n68\n69\n70\n71\n72",
      "\n73\n74\n75\n76\n77\n78\n79\n80\n",
      "81\n82\n83\n84\n85\n86\n87\n88\n",
      "89\n90\n91\n92",
      "\n93\n94\n95\n96\n97\n98\n",
      "99\n100\n101\n102\n103\n104\n105\n106\n",
      "107\n108\n109\n110\n111\n112\n113\n114\n115\n",
      "116\n117\n118\n119",
      "\n120\n121\n122\n123\n124\n",
      "125\n126\n127\n128\n129\n130\n",
      "131\n132\n133\n134\n135\n136\n",
      "137\n138\n139\n140\n141\n",
      "142\n143\n144\n145\n146",
      "\n147\n148\n149\n",
      "150\n151\n152\n",
      "153\n154\n155\n156\n157\n158\n159\n",
      "160\n161\n162\n163\n164\n165",
      "\n166\n167\n168\n169\n170\n",
      "171\n172\n173\n174\n175\n176\n177",
      "\n178\n179\n180\n181\n182\n183\n184\n",
      "185\n186\n187\n188\n189\n190\n191\n192\n193\n",
      "194\n195\n196\n197\n198\n199\n200\n201\n202\n",
      "203\n204\n205\n206\n207\n208\n209\n210\n211\n212\n213\n214\n",
      "215\n216\n217\n218\n219\n",
      "220\n221\n222\n223\n224\n225\n226\n227\n228\n229\n230\n",
      "231\n232\n233\n234\n",
      "235\n236\n237\n238\n239\n240\n241\n",
      "242\n243\n244\n245\n246\n247\n248\n249",
      "\n250\n251\n252\n253\n254\n",
      "255\n256\n257\n258\n259\n260\n261\n",
      "262\n263\n264\n265\n266\n",
      "267\n268\n269\n270\n271\n272\n",
      "273\n274\n275\n276\n277\n",
      "278\n279\n280\n281\n282\n283\n",
      "284\n285\n286\n287\n288\n289\n290\n",
      "291\n292\n293\n294\n295\n296\n297\n298\n299\n",
      "300\n301\n302\n303\n304\n305\n",
      "306\n307\n308\n309\n310\n311\n",
      "312\n313\n314\n315\n316\n317\n",
      "318\n319\n320\n321\n322\n323\n",
      "324\n325\n326\n327\n328\n329\n330\n331\n332\n333\n334",
      "\n335\n336\n337\n338\n",
      "339\n340\n341\n342\n343\n344\n345",
      "\n346\n347\n348\n349\n350\n351\n352\n353\n",
      "354\n355\n356\n357\n358\n359\n360\n361\n362\n363\n364\n",
      "365\n366\n367\n368\n369\n370\n371\n372\n",
      "373\n374\n375\n376\n377\n378\n379\n380\n381\n",
      "382\n383\n384\n385\n386\n387\n388\n",
      "389\n390\n391\n392\n393\n394\n395\n396\n",
      "397\n398\n399\n400\n401\n402\n403\n404\n405\n",
      "406\n407\n408\n409\n410\n411\n412\n413\n414\n415\n",
      "416\n417\n418\n419\n420\n421\n422\n423\n",
      "424\n425\n426\n427\n428\n429\n430\n431\n432\n",
      "433\n434\n435\n436\n437\n438\n",
      "439\n440\n441\n442\n443\n444\n445\n446\n447\n448\n449\n",
      "450\n451\n452\n453\n454\n",
      "455\n456\n457\n458\n459\n460\n",
      "461\n462\n463\n",
      "464\n465\n466\n467\n468\n469\n470\n471\n472\n473\n474\n",
      "475\n476\n477\n478\n",
      "479\n480\n481\n482\n",
      "483\n484\n485\n486\n487\n488\n489\n",
      "490\n491\n492\n493\n494\n495\n",
      "496\n497\n498\n499\n500\n501\n502\n503\n504\n",
      "505\n506\n507\n508\n509\n510\n511\n512\n513\n",
      "514\n515\n516\n517\n518",
      "\n519\n520\n521\n522\n523\n524\n",
      "525\n526\n527\n528\n529\n530\n",
      "531\n532\n533\n",
      "534\n535\n536\n537\n538\n539\n540\n",
      "541\n542\n543\n544\n545\n546\n547\n548\n549\n550\n551\n",
      "552\n553\n554\n555\n556\n557\n558\n",
      "559\n560\n561\n562\n563\n564\n",
      "565\n566\n567\n568\n569\n570\n",
      "571\n572\n573\n574\n575\n576\n577\n578\n579\n",
      "580\n581\n582\n583\n584\n585\n586\n587\n588\n589\n590\n",
      "591\n592\n593\n594\n595\n596\n597\n598\n599\n600\n",
      "601\n602\n603\n604\n605\n606\n607\n608\n",
      "609\n610\n611\n612\n613\n614\n615\n616\n617\n",
      "618\n619\n620\n621\n622\n623\n624",
      "\n625\n626\n627\n",
      "628\n629\n630\n631\n632\n633\n634\n",
      "635\n636\n637\n",
      "638\n639\n640\n641\n642\n",
      "643\n644\n645\n646\n647\n",
      "648\n649\n650\n651\n652\n653",
      "\n654\n655\n656\n657\n658",
      "\n659\n660\n661\n",
      "662\n663\n",
      "664\n665\n666\n667\n668\n669\n",
      "670\n671\n672\n673\n",
      "674\n675\n676\n677\n678\n679\n",
      "680\n681\n682\n683\n684\n685\n686\n687\n688\n689\n",
      "690\n691\n692\n693\n694\n695\n696",
      "\n697\n698\n699\n700\n701\n702\n703\n",
      "704\n705\n706\n707\n",
      "708\n709\n710\n",
      "711\n712\n713\n714\n715\n",
      "716\n717\n718\n719\n720\n721\n722\n723\n724\n",
      "725\n726\n727\n728\n729\n730\n731\n732\n733",
      "\n734\n735\n736\n737\n738\n739\n740\n741\n742\n743\n744\n745\n",
      "746\n747\n748\n749\n750\n751\n752\n753\n",
      "754\n755\n",
      "756\n757\n758\n759\n760\n761\n762\n763\n764\n",
      "765\n766\n767\n768\n769\n770\n771\n772\n",
      "773\n774\n775\n776\n777\n778\n779\n780\n781\n782\n783\n784\n",
      "785\n786\n787\n788\n789\n790\n791\n792\n",
      "793\n794\n795\n796\n797\n798\n799\n",
      "800\n801\n802\n803\n804\n805\n806\n807\n808\n809\n810\n",
      "811\n812\n813\n814\n815\n816\n817\n818\n",
      "819\n820\n821\n822\n823\n824\n",
      "825\n826\n827\n828\n829\n830\n831\n",
      "832\n833\n834\n835\n836\n837\n",
      "838\n839\n840\n841\n842\n",
      "843\n844\n845\n846\n847\n848\n849\n850\n",
      "851\n852\n853\n854\n",
      "855\n856\n857\n858\n859\n860\n861\n",
      "862\n863\n864\n865\n866\n867",
      "\n868\n869\n870\n871\n",
      "872\n873\n874\n",
      "875\n876\n877\n878\n879\n880\n881\n882\n883\n884\n885\n886\n",
      "887\n888\n889\n890\n891\n892\n",
      "893\n894\n895\n896\n897\n898\n899\n900\n901\n",
      "902\n903\n904\n905\n906\n907\n908\n909\n910\n",
      "911\n912\n913\n914\n915\n916\n917\n918\n",
      "919\n920\n921\n922\n923\n924\n925\n926\n927",
      "\n928\n929\n930\n931",
      "\n932\n933\n934\n935\n936\n937\n938\n939\n",
      "940\n941\n942\n943\n944\n945\n946\n947",
      "\n948\n949\n950\n",
      "951\n952\n953\n954\n955\n956\n957\n",
      "958\n959\n960\n961\n",
      "962\n963\n964\n965\n966\n967\n968\n969\n970\n",
      "971\n972\n973\n974\n975\n976\n977\n",
      "978\n979\n980\n981\n982\n983\n984\n985\n986\n987\n",
      "988\n989\n990\n991\n992\n993\n994\n995\n996\n",
      "997\n998\n999\n1000\n1001\n1002\n1003\n1004\n1005\n1006\n1007\n",
      "1008\n1009\n1010\n1011\n1012\n1013\n1014\n1015\n1016\n1017",
      "\n1018\n1019\n1020\n1021\n1022\n1023\n1024\n1025\n1026\n1027\n",
      "1028\n1029\n1030\n1031\n",
      "1032\n1033\n1034\n1035\n1036\n1037\n1038\n1039\n1040\n1041\n",
      "1042\n1043\n1044\n1045\n1046\n1047\n1048\n1049\n1050\n",
      "1051\n1052\n1053\n1054\n1055\n1056\n1057\n",
      "1058\n1059\n1060\n1061\n1062\n1063\n1064\n1065\n1066\n1067\n",
      "1068\n1069\n1070\n1071\n1072\n1073\n",
      "1074\n1075\n1076\n1077\n1078\n1079\n1080\n1081",
      "\n1082\n1083\n1084\n1085\n1086\n1087\n1088\n1089\n1090\n",
      "1091\n1092\n1093\n1094\n1095\n1096\n1097\n1098\n1099\n1100\n",
      "1101\n1102\n1103\n1104\n1105\n",
      "1106\n1107\n1108\n1109\n1110\n1111\n1112",
      "\n1113\n1114\n1115\n1116\n1117\n",
      "1118\n1119\n1120\n1121\n1122\n1123\n1124\n1125\n1126\n1127\n",
      "1128\n1129\n1130\n1131\n1132\n1133\n1134\n1135\n",
      "1136\n1137\n1138\n1139\n1140\n1141\n1142\n1143\n",
      "1144\n1145\n1146\n1147\n1148\n1149\n1150\n1151\n",
      "1152\n1153\n1154\n1155\n1156",
      "\n1157\n1158\n",
      "1159\n1160\n1161\n1162\n1163\n",
      "1164\n1165\n1166\n1167\n1168\n1169\n1170\n1171\n1172\n1173\n",
      "1174\n1175\n1176\n1177\n1178\n1179\n1180\n",
      "1181\n1182\n1183\n1184\n1185\n",
      "1186\n1187\n1188\n1189\n",
      "1190\n1191\n1192\n1193\n1194\n1195\n1196\n1197",
      "\n1198\n1199\n1200\n",
      "1201\n1202\n1203\n1204\n1205\n1206\n",
      "1207\n1208\n1209\n1210\n1211\n1212\n1213\n",
      "1214\n1215\n1216\n1217\n1218\n1219\n",
      "1220\n1221\n1222\n1223\n1224\n",
      "1225\n1226\n1227\n1228\n1229\n1230\n1231\n",
      "1232\n1233\n1234\n1235\n1236\n",
      "1237\n1238\n1239\n1240\n1241\n1242\n",
      "1243\n1244\n1245\n1246\n1247\n1248\n",
      "1249\n1250\n1251\n1252\n1253\n1254\n1255\n1256\n1257\n1258\n1259\n1260\n1261",
      "\n1262\n1263\n1264\n1265\n1266\n1267\n",
      "1268\n1269\n1270\n1271\n1272\n1273\n1274\n",
      "1275\n1276\n1277\n1278\n1279\n1280\n1281\n1282\n1283\n",
      "1284\n1285\n1286\n1287\n1288\n1289\n1290\n",
      "1291\n1292\n1293\n1294\n1295\n1296\n1297\n1298\n1299\n1300\n1301\n",
      "1302\n1303\n1304\n1305\n1306\n1307\n1308\n1309\n",
      "1310\n1311\n1312\n1313\n1314\n1315\n1316\n1317\n1318\n",
      "1319\n1320\n1321\n1322\n1323\n1324\n1325\n1326\n",
      "1327\n1328\n1329\n1330\n1331\n1332\n1333\n1334\n",
      "1335\n1336\n1337\n1338\n1339\n1340\n1341\n1342\n1343\n1344\n",
      "1345\n1346\n1347\n1348\n1349\n1350\n1351\n1352\n1353\n1354\n",
      "1355\n1356\n1357\n1358\n1359\n1360\n1361\n1362\n",
      "1363\n1364\n1365\n1366\n1367\n1368\n1369\n",
      "1370\n1371\n1372\n1373\n1374\n1375\n1376",
      "\n1377\n1378\n1379\n1380\n1381\n1382\n1383\n1384\n1385\n1386\n1387\n",
      "1388\n1389\n1390\n",
      "1391\n1392\n1393\n1394\n1395\n1396\n1397\n1398\n1399\n1400\n",
      "1401\n1402\n1403\n1404\n1405\n1406\n1407\n",
      "1408\n1409\n1410\n1411\n1412\n1413\n1414\n1415\n1416\n",
      "1417\n1418\n1419\n1420\n1421\n1422\n",
      "1423\n1424\n1425\n1426\n1427\n1428\n",
      "1429\n1430\n1431\n1432\n",
      "1433\n1434\n1435\n",
      "1436\n1437\n1438\n1439\n1440\n1441\n1442\n",
      "1443\n1444\n1445\n1446\n1447\n1448\n1449\n1450\n1451\n1452\n",
      "1453\n1454\n1455\n1456\n1457\n1458\n1459\n1460\n1461\n",
      "1462\n1463\n1464\n1465\n1466\n1467\n",
      "1468\n1469\n1470\n1471\n1472\n1473\n1474\n1475\n",
      "1476\n1477\n1478\n1479\n1480\n1481\n1482\n",
      "1483\n1484\n1485\n1486\n1487\n1488\n1489\n",
      "1490\n1491\n1492\n1493\n1494\n",
      "1495\n1496\n",
      "1497\n1498\n1499\n1500\n1501\n1502\n1503\n",
      "1504\n1505\n1506\n1507\n1508\n1509\n1510\n1511\n1512\n1513\n1514\n1515\n1516\n",
      "1517\n1518\n1519\n1520\n1521\n1522\n",
      "1523\n1524\n1525\n1526\n1527\n1528\n",
      "1529\n1530\n1531\n1532\n1533\n1534\n1535\n1536\n1537\n1538\n",
      "1539\n1540\n1541\n1542\n1543\n1544\n1545\n1546\n",
      "1547\n1548\n1549\n1550\n1551\n1552\n1553\n1554\n1555\n1556\n1557\n",
      "1558\n1559\n1560\n1561\n1562\n1563\n1564\n1565\n",
      "1566\n1567\n1568\n1569\n1570\n1571\n1572\n1573\n1574\n",
      "1575\n1576\n1577\n1578\n1579\n1580\n1581\n1582\n1583\n1584\n1585\n",
      "1586\n1587\n1588\n1589\n1590\n1591\n1592\n1593\n",
      "1594\n1595\n1596\n1597\n1598\n1599\n",
      "1600\n1601\n1602\n1603\n1604\n1605\n",
      "1606\n1607\n1608\n1609\n",
      "1610\n1611\n1612\n1613\n1614\n1615\n1616\n1617\n",
      "1618\n1619\n1620\n1621\n1622\n1623\n1624\n1625\n",
      "1626\n1627\n1628\n1629\n1630\n1631\n1632\n1633\n1634\n1635\n1636\n1637\n",
      "1638\n1639\n1640\n1641\n1642\n1643\n1644\n1645\n",
      "1646\n1647\n1648\n1649\n1650\n1651\n",
      "1652\n1653\n1654\n1655\n1656\n1657",
      "\n1658\n1659\n1660",
      "\n1661\n1662\n1663\n1664\n1665\n1666",
      "\n1667\n1668\n1669\n1670\n1671\n",
      "1672\n1673\n1674\n1675\n1676\n1677\n",
      "1678\n1679\n",
      "1680\n1681\n1682\n1683\n1684\n",
      "1685\n1686\n1687\n1688\n1689\n",
      "1690\n1691\n1692\n1693",
      "\n1694\n1695\n1696\n1697\n1698\n1699\n1700\n1701\n1702\n",
      "1703\n1704\n1705\n",
      "1706\n1707\n1708\n1709\n1710\n1711\n",
      "1712\n1713\n1714\n1715\n1716\n1717\n1718\n1719\n",
      "1720\n1721\n1722\n1723\n1724\n1725\n1726\n1727\n1728\n",
      "1729\n1730\n1731\n1732\n1733\n1734",
      "\n1735\n1736\n1737\n1738\n",
      "1739\n1740\n1741\n1742\n1743\n1744\n1745\n1746\n1747\n1748\n1749\n1750\n",
      "1751\n1752\n1753\n1754\n1755\n",
      "1756\n1757\n1758\n1759\n1760\n1761\n1762\n1763\n1764\n1765\n",
      "1766\n1767\n1768\n1769\n1770",
      "\n1771\n1772\n1773\n1774\n1775\n1776\n1777\n1778\n",
      "1779\n1780\n1781\n1782\n1783\n1784\n",
      "1785\n1786\n1787\n1788\n1789\n1790\n1791\n1792\n",
      "1793\n1794\n1795\n1796\n1797\n1798\n1799\n1800\n",
      "1801\n1802\n1803\n1804\n1805\n1806\n1807\n",
      "1808\n1809\n1810\n1811\n1812\n1813\n1814\n",
      "1815\n1816\n1817\n1818\n1819\n1820\n1821\n1822\n1823\n",
      "1824\n1825\n1826\n1827\n1828\n1829\n1830\n",
      "1831\n1832\n1833\n1834\n",
      "1835\n1836\n1837\n1838\n1839\n",
      "1840\n1841\n1842\n1843\n",
      "1844\n1845\n1846\n1847\n1848\n1849\n1850\n1851\n1852\n",
      "1853\n1854\n1855\n1856\n1857\n1858\n1859\n1860\n1861\n",
      "1862\n1863\n1864\n1865\n1866",
      "\n1867\n1868\n1869\n",
      "1870\n1871\n1872\n1873\n1874\n",
      "1875\n1876\n1877\n1878\n",
      "1879\n1880\n1881\n1882\n1883\n1884\n",
      "1885\n1886\n1887\n1888\n1889\n",
      "1890\n1891\n1892\n1893\n1894\n1895\n1896\n",
      "1897\n1898\n1899\n1900\n",
      "1901\n1902\n1903\n1904\n1905\n1906\n1907\n1908\n",
      "1909\n1910\n1911\n1912\n1913\n1914\n",
      "1915\n1916\n1917\n1918\n",
      "1919\n1920\n1921\n1922\n1923\n1924\n",
      "1925\n1926\n1927\n1928\n1929\n1930\n1931\n",
      "1932\n1933\n1934\n1935\n1936\n1937\n1938\n1939",
      "\n1940\n1941\n1942\n1943\n1944\n1945\n",
      "1946\n1947\n1948\n1949\n1950\n1951\n1952\n1953\n1954\n",
      "1955\n1956\n1957\n1958\n",
      "1959\n1960\n1961\n1962\n1963\n1964\n",
      "1965\n1966\n1967\n1968\n1969\n1970\n1971\n",
      "1972\n1973\n1974\n1975\n1976\n1977\n1978\n1979\n1980\n1981\n",
      "1982\n1983\n1984\n1985\n1986\n1987\n1988\n1989\n1990\n1991\n",
      "1992\n1993\n1994\n1995\n1996\n",
      "1997\n1998\n",
      "1999\n2000\n",
      "2001\n2002\n2003\n2004\n2005\n2006\n",
      "2007\n2008\n2009\n2010\n2011\n2012\n",
      "2013\n2014\n2015\n2016\n2017\n2018\n2019\n",
      "2020\n2021\n2022\n2023\n2024\n2025\n",
      "2026\n2027\n2028\n2029\n2030\n2031\n2032\n",
      "2033\n2034\n2035\n2036\n2037\n",
      "2038\n2039\n2040\n2041\n2042\n2043\n2044\n2045\n2046\n",
      "2047\n2048\n2049\n2050\n2051\n2052\n2053\n2054\n2055\n2056",
      "\n2057\n2058\n2059\n2060\n2061\n2062\n",
      "2063\n2064\n2065\n2066\n2067\n2068\n2069\n2070\n2071\n2072\n2073\n",
      "2074\n2075\n2076\n2077\n2078\n2079\n2080\n2081\n",
      "2082\n2083\n2084\n2085\n2086\n2087\n2088\n2089\n2090\n",
      "2091\n2092\n2093\n2094\n2095\n2096\n2097\n",
      "2098\n2099\n2100\n2101\n2102\n2103\n",
      "2104\n2105\n2106\n2107\n2108\n2109\n2110\n",
      "2111\n2112\n2113\n2114\n2115\n2116\n2117\n2118\n2119\n",
      "2120\n2121\n2122\n2123\n2124\n2125",
      "\n2126\n2127\n2128\n2129\n2130\n2131\n2132\n",
      "2133\n2134\n2135\n2136\n2137\n2138\n2139",
      "\n2140\n2141\n2142\n2143\n2144\n2145\n2146\n2147\n2148\n",
      "2149\n2150\n2151\n",
      "2152\n2153\n2154\n2155\n2156\n2157\n2158\n",
      "2159\n2160\n2161\n2162\n2163\n2164\n2165\n2166\n2167\n2168\n2169\n2170\n",
      "2171\n2172\n2173\n2174\n2175\n2176\n",
      "2177\n2178\n2179\n2180\n2181\n2182\n2183\n2184\n",
      "2185\n2186\n2187\n2188\n2189\n2190\n2191\n2192\n2193\n2194\n",
      "2195\n2196\n2197\n2198\n2199\n2200\n2201\n",
      "2202\n2203\n2204\n2205\n2206\n2207\n2208\n2209\n",
      "2210\n2211\n2212\n2213\n2214\n2215\n2216\n2217\n2218",
      "\n2219\n2220\n2221\n2222\n2223\n2224\n2225\n2226",
      "\n2227\n2228\n2229\n2230\n2231\n2232\n2233\n2234\n",
      "2235\n2236\n2237\n2238\n2239\n2240\n2241\n2242\n2243\n2244\n2245",
      "\n2246\n2247\n2248\n2249\n2250\n2251\n2252\n2253\n",
      "2254\n2255\n2256\n2257\n2258\n2259\n",
      "2260\n2261\n2262\n2263\n2264\n2265\n2266\n2267\n",
      "2268\n2269\n2270\n",
      "2271\n2272\n2273\n2274\n",
      "2275\n2276\n2277\n2278\n2279\n2280\n2281\n2282\n2283\n2284\n",
      "2285\n2286\n2287\n2288\n2289\n2290\n2291\n2292\n2293\n2294\n",
      "2295\n2296\n2297\n2298\n2299\n2300\n2301\n2302\n2303\n",
      "2304\n2305\n2306\n2307\n2308\n2309\n2310\n2311\n2312\n2313\n",
      "2314\n2315\n2316\n2317\n2318\n2319\n2320\n2321\n",
      "2322\n2323\n2324\n2325\n2326\n2327\n2328\n2329\n",
      "2330\n2331\n2332\n2333\n2334\n2335\n2336\n2337\n",
      "2338\n2339\n",
      "2340\n2341\n",
      "2342\n2343\n2344\n2345\n",
      "2346\n2347\n2348\n2349\n2350\n2351\n2352\n2353\n2354\n2355\n2356\n2357\n2358\n",
      "2359\n2360\n2361\n2362\n2363\n2364\n2365\n2366\n",
      "2367\n2368\n2369\n2370\n2371\n2372\n2373\n2374\n2375\n2376\n",
      "2377\n2378\n2379\n2380\n2381\n2382\n2383",
      "\n2384\n2385\n2386\n2387\n",
      "2388\n2389\n2390\n2391\n2392\n2393\n",
      "2394\n2395\n2396\n2397\n2398\n2399\n2400\n2401\n2402\n2403\n2404",
      "\n2405\n2406\n2407\n2408\n2409\n2410\n2411\n2412\n2413\n2414\n2415\n2416\n",
      "2417\n2418\n2419\n2420\n2421\n2422\n2423\n2424\n2425\n",
      "2426\n2427\n2428\n2429\n2430\n2431\n2432\n2433\n",
      "2434\n2435\n2436\n2437\n2438\n2439\n2440\n",
      "2441\n2442\n2443\n2444\n2445\n2446\n2447\n2448\n2449\n2450\n2451\n2452\n2453\n",
      "2454\n2455\n2456\n2457\n2458\n2459\n",
      "2460\n2461\n2462\n2463\n2464\n2465\n2466\n2467\n",
      "2468\n2469\n2470\n2471\n2472\n2473\n2474\n2475\n",
      "2476\n2477\n2478\n2479\n2480\n2481\n2482\n2483\n2484\n",
      "2485\n2486\n2487\n2488\n2489\n",
      "2490\n2491\n2492\n2493\n",
      "2494\n2495\n",
      "2496\n2497\n2498\n2499\n2500\n2501\n2502\n2503\n2504\n",
      "2505\n2506\n2507\n2508\n2509\n2510\n2511\n2512\n2513\n2514\n2515\n",
      "2516\n2517\n2518\n2519\n2520\n2521\n2522\n2523\n",
      "2524\n2525\n2526\n2527\n2528\n2529\n2530\n2531\n2532\n2533\n2534\n",
      "2535\n2536\n2537\n2538\n2539\n2540\n2541\n2542\n",
      "2543\n2544\n2545\n2546\n2547\n2548\n2549\n",
      "2550\n2551\n2552\n2553\n",
      "2554\n2555\n2556\n2557\n2558\n2559\n",
      "2560\n2561\n2562\n2563\n2564\n2565\n2566\n2567\n2568\n",
      "2569\n2570\n2571\n2572\n2573\n2574\n",
      "2575\n2576\n2577\n2578\n2579\n",
      "2580\n2581\n2582\n2583\n2584\n2585\n",
      "2586\n2587\n2588\n2589\n2590\n2591\n2592\n2593\n",
      "2594\n2595\n2596\n2597\n2598\n2599\n2600",
      "\n2601\n2602\n2603\n2604\n2605\n2606\n2607\n2608\n2609\n",
      "2610\n2611\n2612\n2613\n2614\n2615\n2616\n2617\n2618\n2619\n2620\n2621\n2622\n",
      "2623\n2624\n2625\n2626\n2627\n2628\n2629\n2630\n2631\n2632\n2633\n",
      "2634\n2635\n2636\n2637\n2638\n2639\n2640\n2641\n2642\n",
      "2643\n2644\n2645\n2646\n2647\n2648\n2649\n2650\n",
      "2651\n2652\n2653\n",
      "2654\n2655\n2656\n2657\n2658\n2659\n2660\n",
      "2661\n2662\n2663\n2664\n2665\n2666\n2667\n2668\n2669\n2670\n2671\n2672",
      "\n2673\n2674\n2675\n2676\n2677\n2678\n2679\n2680\n2681\n2682\n2683",
      "\n2684\n2685\n2686\n2687\n",
      "2688\n2689\n2690\n2691\n2692\n",
      "2693\n2694\n2695\n2696\n2697\n2698\n2699\n2700\n2701\n",
      "2702\n2703\n2704\n2705\n2706\n2707\n2708\n",
      "2709\n2710\n2711\n2712\n2713\n2714\n2715\n2716\n2717\n2718\n",
      "2719\n2720\n2721\n2722\n2723\n",
      "2724\n2725\n2726\n2727\n2728\n2729\n2730\n",
      "2731\n2732\n2733\n2734\n2735\n2736\n2737\n2738\n2739\n2740",
      "\n2741\n2742\n2743\n2744\n",
      "2745\n2746\n2747\n2748\n2749\n2750\n",
      "2751\n2752\n2753\n2754\n2755\n2756\n2757\n",
      "2758\n2759\n2760\n2761\n2762\n2763\n2764\n2765\n2766\n",
      "2767\n2768\n2769\n2770\n2771\n2772\n2773\n",
      "2774\n2775\n2776\n2777\n2778\n2779\n2780\n2781\n",
      "2782\n2783\n2784\n2785\n2786\n2787\n2788\n2789",
      "\n2790\n2791\n2792\n2793\n2794\n2795\n2796\n2797\n2798\n",
      "2799\n2800\n2801\n2802\n2803\n2804\n2805\n2806\n",
      "2807\n2808\n2809\n2810\n2811\n2812\n2813\n2814\n2815\n2816\n",
      "2817\n2818\n2819\n2820\n2821\n2822\n2823\n",
      "2824\n2825\n2826\n2827\n2828\n2829\n2830",
      "\n2831\n2832\n2833\n2834\n2835\n2836",
      "\n2837\n2838\n2839\n2840\n2841\n2842\n2843",
      "\n2844\n2845\n2846\n2847\n2848\n2849\n2850\n2851\n2852\n2853\n2854\n",
      "2855\n2856\n2857\n2858\n2859\n2860\n2861\n2862\n2863\n2864\n2865\n",
      "2866\n2867\n2868\n2869\n2870\n2871\n2872\n2873\n2874",
      "\n2875\n2876\n2877\n2878\n2879\n2880\n2881\n2882\n2883\n2884\n",
      "2885\n2886\n2887\n2888\n2889\n",
      "2890\n2891\n2892\n2893\n2894\n2895\n2896\n2897",
      "\n2898\n2899\n2900\n2901\n2902\n2903\n2904\n2905\n",
      "2906\n2907\n2908\n2909\n2910\n2911\n2912\n2913\n2914\n2915\n",
      "2916\n2917\n2918\n2919\n2920\n2921\n2922\n2923\n",
      "2924\n2925\n",
      "2926\n2927\n2928\n",
      "2929\n2930\n2931\n2932\n",
      "2933\n2934\n2935\n2936\n2937\n2938\n2939\n",
      "2940\n2941\n2942\n2943\n2944\n2945\n2946\n",
      "2947\n2948\n2949\n2950\n2951\n2952\n2953\n2954\n2955\n2956\n",
      "2957\n2958\n2959\n2960\n2961\n2962\n2963\n2964\n2965\n2966\n",
      "2967\n2968\n2969\n",
      "2970\n2971\n2972\n2973\n2974\n2975\n2976\n",
      "2977\n2978\n2979\n2980\n2981\n2982\n2983\n2984\n",
      "2985\n2986\n2987\n2988\n2989\n2990\n2991\n2992\n2993\n2994\n",
      "2995\n2996\n2997\n2998\n2999\n3000\n3001\n3002\n3003\n",
      "3004\n3005\n3006\n3007\n3008\n3009\n",
      "3010\n3011\n3012\n3013\n3014\n3015",
      "\n3016\n3017\n3018\n3019\n",
      "3020\n3021\n3022\n3023\n3024\n3025\n3026\n3027\n",
      "3028\n3029\n3030\n3031\n3032\n3033\n3034\n",
      "3035\n3036\n3037\n3038\n3039\n3040\n3041\n3042\n3043\n3044",
      "\n3045\n3046\n3047\n3048\n3049\n3050\n",
      "3051\n3052\n3053\n3054\n3055\n3056\n3057\n",
      "3058\n3059\n3060\n3061\n3062\n3063\n",
      "3064\n3065\n3066\n",
      "3067\n3068\n3069\n3070\n3071\n3072\n3073\n3074\n",
      "3075\n3076\n3077\n3078\n3079\n",
      "3080\n3081\n3082\n3083\n3084\n3085\n3086\n3087\n3088\n3089\n",
      "3090\n3091\n3092\n3093\n3094\n3095\n3096\n",
      "3097\n3098\n3099\n3100\n3101\n3102\n3103\n3104\n3105\n3106\n3107\n3108\n3109\n",
      "3110\n3111\n3112\n3113\n3114\n3115\n3116\n",
      "3117\n3118\n3119\n3120\n3121\n3122\n",
      "3123\n3124\n3125\n3126\n3127\n3128\n",
      "3129\n3130\n3131\n3132\n3133\n3134\n3135\n3136\n",
      "3137\n3138\n3139\n3140\n3141\n3142\n3143\n3144\n3145\n",
      "3146\n3147\n3148\n3149\n3150\n3151\n3152\n3153\n3154",
      "\n3155\n3156\n3157\n3158\n3159\n3160\n3161\n3162\n",
      "3163\n3164\n3165\n3166\n3167\n3168\n3169\n3170\n3171\n3172\n",
      "3173\n3174\n3175\n3176\n3177\n3178\n3179\n3180\n3181\n3182\n",
      "3183\n3184\n3185\n3186\n3187\n3188\n3189\n3190\n3191\n3192\n3193\n",
      "3194\n3195\n3196\n3197\n3198\n3199\n3200\n3201\n3202\n3203",
      "\n3204\n3205\n3206\n3207\n3208\n3209\n",
      "3210\n3211\n3212\n3213\n3214\n",
      "3215\n3216\n3217\n3218\n3219\n3220\n3221",
      "\n3222\n3223\n3224\n3225\n3226\n3227\n",
      "3228\n3229\n3230\n3231\n3232\n3233\n3234\n3235\n",
      "3236\n3237\n3238\n3239\n3240\n3241\n3242\n",
      "3243\n3244\n3245\n",
      "3246\n3247\n3248\n3249\n3250\n3251\n3252\n",
      "3253\n3254\n3255\n3256\n3257\n3258\n3259\n",
      "3260\n3261\n3262\n3263\n3264\n",
      "3265\n3266\n3267\n3268\n3269\n3270\n3271\n3272\n",
      "3273\n3274\n3275\n3276\n3277\n3278\n3279\n3280\n3281\n",
      "3282\n3283\n3284\n3285\n3286\n3287\n3288\n",
      "3289\n3290\n3291\n3292\n3293\n",
      "3294\n3295\n3296\n3297\n3298\n3299\n3300\n",
      "3301\n3302\n",
      "3303\n3304\n3305\n",
      "3306\n3307\n3308\n",
      "3309\n3310\n3311\n3312\n3313\n3314",
      "\n3315\n3316\n3317\n3318\n3319\n3320\n3321\n3322",
      "\n3323\n3324\n3325\n3326\n3327\n3328\n3329\n",
      "3330\n3331\n3332\n3333\n3334\n3335\n3336\n3337\n3338\n",
      "3339\n3340\n3341\n3342\n3343\n",
      "3344\n3345\n3346\n3347\n3348\n3349\n3350\n",
      "3351\n3352\n3353\n3354\n",
      "3355\n3356\n",
      "3357\n3358\n3359\n3360\n3361\n3362\n",
      "3363\n3364\n3365\n3366\n",
      "3367\n3368\n3369\n3370\n3371\n3372\n3373\n3374\n3375\n3376\n",
      "3377\n3378\n3379\n3380\n3381\n3382\n3383\n3384\n3385\n3386\n3387\n",
      "3388\n3389\n3390\n3391\n3392\n3393\n3394\n3395\n3396\n3397\n",
      "3398\n3399\n3400\n3401\n",
      "3402\n3403\n3404\n3405\n3406\n3407",
      "\n3408\n3409\n3410\n3411\n3412\n3413\n",
      "3414\n3415\n3416\n3417\n3418\n3419\n3420\n",
      "3421\n3422\n3423\n3424\n3425\n3426\n3427\n3428\n3429\n",
      "3430\n3431\n3432\n3433\n3434\n3435\n3436\n3437\n3438\n3439\n3440\n",
      "3441\n3442\n3443\n3444\n3445\n3446\n3447\n3448\n",
      "3449\n3450\n3451\n3452\n3453\n3454\n3455\n3456\n",
      "3457\n3458\n3459\n3460\n3461\n",
      "3462\n3463\n3464\n3465\n3466\n3467\n3468\n3469\n",
      "3470\n3471\n3472\n3473\n3474\n3475\n3476\n3477\n",
      "3478\n3479\n3480\n3481\n3482\n",
      "3483\n3484\n3485\n3486\n3487\n3488\n",
      "3489\n3490\n3491\n3492\n3493\n3494\n3495\n3496",
      "\n3497\n3498\n3499\n3500\n3501\n3502",
      "\n3503\n3504\n3505\n3506\n3507\n3508\n3509\n3510\n",
      "3511\n3512\n3513\n3514\n3515\n3516\n",
      "3517\n3518\n3519\n3520\n3521\n3522\n3523\n3524\n3525\n",
      "3526\n3527\n3528\n3529\n3530\n",
      "3531\n3532\n3533\n3534\n3535\n",
      "3536\n3537\n3538\n3539\n3540\n3541\n3542\n3543\n",
      "3544\n3545\n3546\n3547\n3548\n3549\n3550\n3551\n",
      "3552\n3553\n3554\n3555\n3556\n3557\n",
      "3558\n3559\n3560\n3561\n3562\n3563\n3564\n3565\n",
      "3566\n3567\n3568\n3569\n3570\n3571\n3572\n3573\n",
      "3574\n3575\n3576\n3577\n",
      "3578\n3579\n3580\n3581\n3582\n3583\n3584\n3585\n3586\n3587\n3588\n3589\n3590\n3591\n3592\n",
      "3593\n3594\n3595\n3596\n3597\n3598\n3599\n3600\n",
      "3601\n3602\n3603\n3604\n3605\n3606\n3607\n",
      "3608\n3609\n3610\n3611\n3612\n3613\n3614\n",
      "3615\n3616\n3617\n3618\n3619\n",
      "3620\n3621\n3622\n3623\n3624\n3625\n",
      "3626\n3627\n3628\n3629\n3630\n3631\n",
      "3632\n3633\n3634\n3635\n3636\n3637\n3638\n3639\n",
      "3640\n3641\n3642\n3643\n3644\n3645\n",
      "3646\n3647\n3648\n3649\n3650\n",
      "3651\n3652\n3653\n3654\n3655\n3656\n3657\n",
      "3658\n3659\n3660\n3661\n",
      "3662\n3663\n3664\n3665\n3666\n3667\n",
      "3668\n3669\n3670\n3671\n3672\n3673\n",
      "3674\n3675\n3676\n3677\n3678\n3679\n3680\n3681\n3682\n",
      "3683\n3684\n3685\n3686\n",
      "3687\n3688\n3689\n3690\n3691\n",
      "3692\n3693\n3694\n3695\n3696\n3697\n3698\n3699\n3700",
      "\n3701\n3702\n3703\n3704\n3705\n3706\n3707\n3708\n3709\n3710\n",
      "3711\n3712\n3713\n3714\n3715\n3716\n3717\n",
      "3718\n3719\n3720\n3721\n3722\n3723\n3724\n3725",
      "\n3726\n3727\n",
      "3728\n3729\n3730\n3731\n3732\n3733\n",
      "3734\n3735\n3736\n3737\n",
      "3738\n3739\n3740\n3741\n3742\n3743\n3744\n3745\n",
      "3746\n3747\n3748\n3749\n3750\n3751\n",
      "3752\n3753\n3754\n3755\n3756\n3757\n3758\n3759\n",
      "3760\n3761\n3762\n3763\n3764\n3765\n3766\n3767\n3768\n3769\n3770\n3771\n",
      "3772\n3773\n3774\n3775\n3776\n3777\n3778\n",
      "3779\n3780\n3781\n3782\n3783\n3784\n3785\n3786\n3787\n",
      "3788\n3789\n3790\n3791\n3792\n3793\n3794\n3795\n",
      "3796\n3797\n3798\n3799\n3800\n",
      "3801\n3802\n3803\n3804\n3805\n3806\n3807\n3808\n3809\n",
      "3810\n3811\n3812\n3813\n3814\n3815\n3816\n3817\n3818\n",
      "3819\n3820\n3821\n3822\n3823\n3824\n3825\n3826\n3827\n",
      "3828\n3829\n3830\n3831\n3832\n3833\n",
      "3834\n3835\n3836\n3837\n3838\n3839\n3840\n3841\n3842\n",
      "3843\n3844\n3845\n3846\n3847\n",
      "3848\n3849\n3850\n3851\n3852\n3853\n",
      "3854\n3855\n3856\n3857\n3858\n3859\n3860\n3861\n",
      "3862\n3863\n3864\n3865\n3866\n3867\n3868\n3869\n3870\n3871\n",
      "3872\n3873\n3874\n3875\n3876\n3877\n",
      "3878\n3879\n3880\n3881\n3882\n3883\n3884\n3885\n3886",
      "\n3887\n3888\n3889\n3890\n3891\n3892\n3893\n",
      "3894\n3895\n3896\n3897\n3898\n3899\n3900\n3901\n3902\n3903\n",
      "3904\n3905\n3906\n3907\n3908\n3909\n3910",
      "\n3911\n3912\n3913\n3914\n3915\n3916\n3917\n3918\n3919\n3920\n3921\n3922\n",
      "3923\n3924\n3925\n3926\n3927\n3928\n3929",
      "\n3930\n3931\n3932\n3933\n3934\n3935\n3936\n3937\n3938\n",
      "3939\n3940\n3941\n3942\n3943\n3944\n",
      "3945\n3946\n3947\n3948\n3949\n3950\n3951\n",
      "3952\n3953\n3954\n3955\n3956\n3957\n",
      "3958\n3959\n3960\n3961\n3962\n3963\n3964\n3965\n3966\n",
      "3967\n3968\n3969\n3970\n3971\n3972\n3973\n",
      "3974\n3975\n3976\n3977\n3978\n",
      "3979\n3980\n",
      "3981\n3982\n3983\n3984\n3985\n3986\n3987\n3988\n",
      "3989\n3990\n3991\n3992\n",
      "3993\n3994\n3995\n3996\n3997\n",
      "3998\n3999\n4000\n4001\n4002\n4003\n4004\n4005\n4006\n",
      "4007\n4008\n4009\n4010\n4011\n4012\n4013\n4014\n4015\n4016\n",
      "4017\n4018\n4019\n4020\n4021\n4022\n",
      "4023\n4024\n4025\n4026\n4027\n4028\n4029\n4030\n4031\n4032\n4033\n4034",
      "\n4035\n4036\n4037\n4038\n4039\n4040\n4041\n4042\n4043\n4044\n",
      "4045\n4046\n4047\n4048\n4049\n4050\n4051\n4052\n4053\n",
      "4054\n4055\n4056\n4057\n4058\n4059\n",
      "4060\n4061\n4062",
      "\n4063\n4064\n4065\n4066\n4067\n4068\n4069\n4070\n4071",
      "\n4072\n4073\n4074\n",
      "4075\n4076\n4077\n4078\n4079\n4080\n4081\n",
      "4082\n4083\n4084\n4085\n4086\n4087\n4088\n",
      "4089\n4090\n4091\n4092\n4093\n4094\n4095\n4096\n4097\n",
      "4098\n4099\n4100\n4101\n4102\n4103\n4104\n4105\n4106\n",
      "4107\n4108\n4109\n4110\n4111\n",
      "4112\n4113\n4114\n4115\n4116\n4117\n4118\n4119\n",
      "4120\n4121\n4122\n4123\n4124\n4125\n",
      "4126\n4127\n4128\n4129\n4130\n4131\n4132\n4133\n",
      "4134\n4135\n4136\n4137\n4138",
      "\n4139\n4140\n4141\n4142\n4143\n4144\n4145\n4146\n",
      "4147\n4148\n4149\n4150\n4151\n",
      "4152\n4153\n4154\n4155\n4156\n4157\n4158\n4159\n4160",
      "\n4161\n4162\n4163\n4164",
      "\n4165\n4166\n4167\n4168\n4169\n4170\n4171",
      "\n4172\n4173\n4174\n4175\n4176\n4177\n4178\n",
      "4179\n4180\n4181\n4182\n4183\n4184\n4185\n",
      "4186\n4187\n4188\n4189\n4190\n4191\n4192\n4193\n",
      "4194\n4195\n4196\n4197\n4198\n4199\n4200\n",
      "4201\n4202\n4203\n4204\n4205\n4206\n4207\n4208\n4209\n",
      "4210\n4211\n4212\n4213\n4214\n",
      "4215\n4216\n4217\n4218\n4219\n",
      "4220\n4221\n4222\n4223\n4224\n",
      "4225\n4226\n4227\n4228\n4229\n4230",
      "\n4231\n4232\n4233\n4234\n4235\n",
      "4236\n4237\n4238\n4239\n4240\n4241\n4242\n",
      "4243\n4244\n4245\n4246\n4247\n4248\n4249\n4250\n",
      "4251\n4252\n4253\n4254\n4255\n",
      "4256\n4257\n4258\n4259\n4260\n4261\n4262\n4263\n4264\n4265\n4266\n",
      "4267\n4268\n4269\n4270\n4271\n4272\n",
      "4273\n4274\n4275\n4276\n4277\n4278\n4279",
      "\n4280\n4281\n4282\n4283\n4284",
      "\n4285\n4286\n4287\n4288\n4289\n4290\n4291\n",
      "4292\n4293\n4294\n4295\n4296\n4297\n4298\n4299\n",
      "4300\n4301\n4302\n4303\n4304\n",
      "4305\n4306\n4307\n4308\n4309\n4310\n4311\n4312\n",
      "4313\n4314\n4315\n4316\n4317\n4318\n4319\n4320\n4321\n4322\n",
      "4323\n4324\n4325\n4326\n4327\n4328\n4329\n4330\n4331\n",
      "4332\n4333\n4334\n4335\n4336\n",
      "4337\n4338\n4339\n4340\n4341\n",
      "4342\n4343\n4344\n4345\n4346\n",
      "4347\n4348\n4349\n4350\n4351\n",
      "4352\n4353\n4354\n4355\n4356\n4357\n",
      "4358\n4359\n4360\n4361\n4362\n",
      "4363\n4364\n4365\n4366\n4367\n",
      "4368\n4369\n4370\n",
      "4371\n4372\n4373\n4374\n4375\n",
      "4376\n4377\n4378\n4379\n4380\n4381\n4382\n",
      "4383\n4384\n4385\n4386\n",
      "4387\n4388\n4389\n4390\n4391\n4392\n4393\n4394\n",
      "4395\n4396\n4397\n4398\n4399\n4400\n4401\n4402",
      "\n4403\n4404\n4405\n4406\n4407\n4408",
      "\n4409\n4410\n4411\n",
      "4412\n4413\n4414\n4415\n4416\n4417\n4418\n4419\n4420\n",
      "4421\n4422\n4423\n",
      "4424\n4425\n4426\n4427\n4428\n4429\n",
      "4430\n4431\n4432\n4433\n4434\n",
      "4435\n4436\n4437\n4438\n",
      "4439\n4440\n4441\n4442\n4443\n4444\n4445\n",
      "4446\n4447\n4448\n4449\n4450\n",
      "4451\n4452\n4453\n4454\n4455\n4456\n4457\n",
      "4458\n4459\n4460\n4461\n4462\n4463\n4464\n4465\n",
      "4466\n4467\n4468\n4469\n4470\n4471\n",
      "4472\n4473\n4474\n4475\n4476\n4477\n",
      "4478\n4479\n4480\n4481\n4482\n4483\n",
      "4484\n4485\n4486\n4487\n4488\n4489\n",
      "4490\n4491\n4492\n4493\n4494",
      "\n4495\n4496\n4497\n4498\n4499\n4500\n",
      "4501\n4502\n4503\n4504\n4505\n4506\n4507\n",
      "4508\n4509\n4510\n4511\n4512\n4513\n4514\n",
      "4515\n4516\n4517\n4518\n4519\n",
      "4520\n4521\n4522\n4523\n4524\n4525\n4526\n4527\n",
      "4528\n4529\n4530\n4531\n4532\n4533\n4534\n",
      "4535\n4536\n4537\n4538\n4539\n4540\n4541\n4542\n4543\n4544\n4545\n",
      "4546\n4547\n4548\n4549\n4550\n4551\n4552\n4553\n4554",
      "\n4555\n4556\n4557\n",
      "4558\n4559\n4560\n4561\n4562\n",
      "4563\n4564\n4565\n4566\n4567\n4568\n4569\n4570\n4571\n",
      "4572\n4573\n4574\n4575\n4576\n4577\n",
      "4578\n4579\n4580\n4581\n4582\n4583\n4584\n",
      "4585\n4586\n4587\n4588\n4589\n4590\n",
      "4591\n4592\n4593\n4594\n4595\n4596\n4597\n",
      "4598\n4599\n4600\n4601\n4602\n",
      "4603\n4604\n4605\n4606\n4607\n4608\n4609\n",
      "4610\n4611\n4612\n4613\n4614\n4615\n4616\n",
      "4617\n4618\n4619\n4620\n"
     ],
     "output_type": "stream"
    }
   ],
   "source": [
    "tc.load_bert_embedding_via_json('./data/bert_embeddings_json_new/train_feature.json')"
   ],
   "metadata": {
    "collapsed": false,
    "pycharm": {
     "name": "#%%\n",
     "is_executing": true
    }
   }
  },
  {
   "cell_type": "code",
   "execution_count": 48,
   "outputs": [
    {
     "name": "stdout",
     "text": [
      "2\n2\n"
     ],
     "output_type": "stream"
    }
   ],
   "source": [
    "tc.token_dict['[CLS]']\n",
    "print(len(tc.token_dict['[CLS]'][1][-1]))\n",
    "print(len(tc.token_dict['[CLS]'][1][-2]))"
   ],
   "metadata": {
    "collapsed": false,
    "pycharm": {
     "name": "#%%\n",
     "is_executing": false
    }
   }
  }
 ],
 "metadata": {
  "language_info": {
   "codemirror_mode": {
    "name": "ipython",
    "version": 2
   },
   "file_extension": ".py",
   "mimetype": "text/x-python",
   "name": "python",
   "nbconvert_exporter": "python",
   "pygments_lexer": "ipython2",
   "version": "2.7.6"
  },
  "kernelspec": {
   "name": "python3",
   "language": "python",
   "display_name": "Python 3"
  },
  "pycharm": {
   "stem_cell": {
    "cell_type": "raw",
    "source": [],
    "metadata": {
     "collapsed": false
    }
   }
  }
 },
 "nbformat": 4,
 "nbformat_minor": 0
}