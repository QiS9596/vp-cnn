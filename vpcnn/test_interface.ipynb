{
 "cells": [
  {
   "cell_type": "code",
   "execution_count": 15,
   "metadata": {
    "collapsed": true,
    "pycharm": {
     "is_executing": false
    }
   },
   "outputs": [],
   "source": [
    "\"\"\"\n",
    "Notebook for unorganized tests and development\n",
    "\"\"\"\n",
    "import pandas as pd\n",
    "import numpy as np"
   ]
  },
  {
   "cell_type": "markdown",
   "source": [
    "test for data processing: parsing numpy.array which are stored as strings"
   ],
   "metadata": {
    "collapsed": false,
    "pycharm": {
     "name": "#%% md\n"
    }
   }
  },
  {
   "cell_type": "code",
   "execution_count": 11,
   "outputs": [],
   "source": [
    "df_ = pd.read_csv('./data/bert_embeddings/all.tsv', sep='\\t', names=['label','embed'])"
   ],
   "metadata": {
    "collapsed": false,
    "pycharm": {
     "name": "#%%\n",
     "is_executing": false
    }
   }
  },
  {
   "cell_type": "code",
   "execution_count": 25,
   "outputs": [],
   "source": [
    "def parse_single_string(string, seq_length=32):\n",
    "    \"\"\"\n",
    "    this function parse a string of elements into np.array\n",
    "    the string ofthe array might contain [], and should be a 2d matrix\n",
    "    each row of the array represents a row vector\n",
    "    also completes the sequence padding job,\n",
    "    which including cutting the longer sequences, \n",
    "    and padding the shorter ones with np.zeros, with the same width as the row vectors\n",
    "    :param string: str,string of the numpy array\n",
    "    :param seq_length: int; max sequence length\n",
    "    :return: a np.ndarray\n",
    "    \"\"\"\n",
    "    arrays = []\n",
    "    for line in string.split('\\n'):\n",
    "        line = line.replace('[','')\n",
    "        line = line.replace(']','')\n",
    "        elements = line.split(' *')\n",
    "        print(elements)\n",
    "        arrays.append(np.array(line))\n",
    "    sentence = np.concatenate(arrays)\n",
    "    return sentence"
   ],
   "metadata": {
    "collapsed": false,
    "pycharm": {
     "name": "#%%\n",
     "is_executing": false
    }
   }
  },
  {
   "cell_type": "code",
   "execution_count": 19,
   "outputs": [
    {
     "name": "stdout",
     "text": [
      "<class 'str'>\n[[ 0.261803  0.157048  0.193782 ... -0.195094  0.545932  0.377449]\n [-0.301234 -0.18264   0.174642 ... -0.681987  0.981235  0.078662]\n [ 0.455625  0.06644  -0.155926 ... -0.375778  0.795304 -0.331886]\n ...\n [ 0.328007  0.110555  0.494772 ... -0.45329   0.13253  -0.594115]\n [-0.049046 -0.014252  0.126001 ...  0.048751  0.013901 -1.539837]\n [ 0.729335  0.130939 -0.04916  ... -0.060102 -0.073085 -0.014148]]\n7\n"
     ],
     "output_type": "stream"
    }
   ],
   "source": [
    "print(type(df_['embed'][0]))\n",
    "print(df_['embed'][0])\n",
    "example_str = df_['embed'][0]\n",
    "lines = list(example_str.split('\\n'))\n",
    "print(len(lines))"
   ],
   "metadata": {
    "collapsed": false,
    "pycharm": {
     "name": "#%%\n",
     "is_executing": false
    }
   }
  },
  {
   "cell_type": "code",
   "execution_count": 26,
   "outputs": [
    {
     "name": "stdout",
     "text": [
      "[' 0.261803  0.157048  0.193782 ... -0.195094  0.545932  0.377449']\n[' -0.301234 -0.18264   0.174642 ... -0.681987  0.981235  0.078662']\n['  0.455625  0.06644  -0.155926 ... -0.375778  0.795304 -0.331886']\n[' ...']\n['  0.328007  0.110555  0.494772 ... -0.45329   0.13253  -0.594115']\n[' -0.049046 -0.014252  0.126001 ...  0.048751  0.013901 -1.539837']\n['  0.729335  0.130939 -0.04916  ... -0.060102 -0.073085 -0.014148']\n"
     ],
     "output_type": "stream"
    },
    {
     "traceback": [
      "\u001b[1;31m---------------------------------------------------------------------------\u001b[0m",
      "\u001b[1;31mValueError\u001b[0m                                Traceback (most recent call last)",
      "\u001b[1;32m<ipython-input-26-36fee35fca20>\u001b[0m in \u001b[0;36m<module>\u001b[1;34m\u001b[0m\n\u001b[1;32m----> 1\u001b[1;33m \u001b[0mparse_single_string\u001b[0m\u001b[1;33m(\u001b[0m\u001b[0mexample_str\u001b[0m\u001b[1;33m)\u001b[0m\u001b[1;33m\u001b[0m\u001b[0m\n\u001b[0m",
      "\u001b[1;32m<ipython-input-25-d49af72f9e6a>\u001b[0m in \u001b[0;36mparse_single_string\u001b[1;34m(string, seq_length)\u001b[0m\n\u001b[0;32m     18\u001b[0m         \u001b[0mprint\u001b[0m\u001b[1;33m(\u001b[0m\u001b[0melements\u001b[0m\u001b[1;33m)\u001b[0m\u001b[1;33m\u001b[0m\u001b[0m\n\u001b[0;32m     19\u001b[0m         \u001b[0marrays\u001b[0m\u001b[1;33m.\u001b[0m\u001b[0mappend\u001b[0m\u001b[1;33m(\u001b[0m\u001b[0mnp\u001b[0m\u001b[1;33m.\u001b[0m\u001b[0marray\u001b[0m\u001b[1;33m(\u001b[0m\u001b[0mline\u001b[0m\u001b[1;33m)\u001b[0m\u001b[1;33m)\u001b[0m\u001b[1;33m\u001b[0m\u001b[0m\n\u001b[1;32m---> 20\u001b[1;33m     \u001b[0msentence\u001b[0m \u001b[1;33m=\u001b[0m \u001b[0mnp\u001b[0m\u001b[1;33m.\u001b[0m\u001b[0mconcatenate\u001b[0m\u001b[1;33m(\u001b[0m\u001b[0marrays\u001b[0m\u001b[1;33m)\u001b[0m\u001b[1;33m\u001b[0m\u001b[0m\n\u001b[0m\u001b[0;32m     21\u001b[0m     \u001b[1;32mreturn\u001b[0m \u001b[0msentence\u001b[0m\u001b[1;33m\u001b[0m\u001b[0m\n",
      "\u001b[1;32m<__array_function__ internals>\u001b[0m in \u001b[0;36mconcatenate\u001b[1;34m(*args, **kwargs)\u001b[0m\n",
      "\u001b[1;31mValueError\u001b[0m: zero-dimensional arrays cannot be concatenated"
     ],
     "ename": "ValueError",
     "evalue": "zero-dimensional arrays cannot be concatenated",
     "output_type": "error"
    }
   ],
   "source": [
    "parse_single_string(example_str)"
   ],
   "metadata": {
    "collapsed": false,
    "pycharm": {
     "name": "#%%\n",
     "is_executing": false
    }
   }
  },
  {
   "cell_type": "code",
   "execution_count": null,
   "outputs": [],
   "source": [
    "# runtest on parse line"
   ],
   "metadata": {
    "collapsed": false,
    "pycharm": {
     "name": "#%%\n"
    }
   }
  },
  {
   "cell_type": "code",
   "execution_count": 57,
   "outputs": [],
   "source": [
    "# test on saving np arrays\n",
    "list_ = []\n",
    "for i in range(3000):\n",
    "    list_.append(np.random.rand(45,300))\n",
    "b = np.random.rand(3000,1)\n",
    "list_.append(np.random.rand(15,3000))"
   ],
   "metadata": {
    "collapsed": false,
    "pycharm": {
     "name": "#%%\n",
     "is_executing": false
    }
   }
  },
  {
   "cell_type": "code",
   "execution_count": null,
   "outputs": [],
   "source": [],
   "metadata": {
    "collapsed": false,
    "pycharm": {
     "name": "#%%\n"
    }
   }
  },
  {
   "cell_type": "code",
   "execution_count": 41,
   "outputs": [],
   "source": [
    "rand_df = pd.DataFrame(data=b, columns=['label'])\n",
    "rand_df['embed'] = list_"
   ],
   "metadata": {
    "collapsed": false,
    "pycharm": {
     "name": "#%%\n",
     "is_executing": false
    }
   }
  },
  {
   "cell_type": "code",
   "execution_count": 42,
   "outputs": [
    {
     "data": {
      "text/plain": "<bound method NDFrame.sample of          label                                              embed\n0     0.881206  [[0.14258597807457318, 0.3398932565403531, 0.7...\n1     0.978222  [[0.5127065449124689, 0.3880318961937964, 0.53...\n2     0.381141  [[0.8180352028784841, 0.04184509770233047, 0.6...\n3     0.262677  [[0.45821443213085045, 0.9457486863379397, 0.3...\n4     0.212208  [[0.5692408168214886, 0.9383073219873619, 0.21...\n...        ...                                                ...\n2995  0.654202  [[0.31558634181141143, 0.9197204933430404, 0.8...\n2996  0.604534  [[0.2897502711426231, 0.9843839747468621, 0.19...\n2997  0.843040  [[0.23897792417188457, 0.48438540964882326, 0....\n2998  0.678079  [[0.5356248696065049, 0.38223679941077704, 0.3...\n2999  0.230218  [[0.661490107586339, 0.29979165455466483, 0.52...\n\n[3000 rows x 2 columns]>"
     },
     "metadata": {},
     "output_type": "execute_result",
     "execution_count": 42
    }
   ],
   "source": [
    "rand_df.sample"
   ],
   "metadata": {
    "collapsed": false,
    "pycharm": {
     "name": "#%%\n",
     "is_executing": false
    }
   }
  },
  {
   "cell_type": "code",
   "execution_count": 50,
   "outputs": [],
   "source": [
    "currentembed = rand_df.iloc[0]['embed']\n",
    "rand_df.to_csv('./data/test.tsv', sep='\\t', index=False, header=False)"
   ],
   "metadata": {
    "collapsed": false,
    "pycharm": {
     "name": "#%%\n",
     "is_executing": false
    }
   }
  },
  {
   "cell_type": "code",
   "execution_count": 60,
   "outputs": [],
   "source": [
    "np.save('./data/savednumpy.npy',np.array(list_))"
   ],
   "metadata": {
    "collapsed": false,
    "pycharm": {
     "name": "#%%\n",
     "is_executing": false
    }
   }
  },
  {
   "cell_type": "code",
   "execution_count": 95,
   "outputs": [],
   "source": [
    "c = np.load('./data/savednumpy.npy', allow_pickle=True)"
   ],
   "metadata": {
    "collapsed": false,
    "pycharm": {
     "name": "#%%\n",
     "is_executing": false
    }
   }
  },
  {
   "cell_type": "code",
   "execution_count": 96,
   "outputs": [
    {
     "data": {
      "text/plain": "(3001,)"
     },
     "metadata": {},
     "output_type": "execute_result",
     "execution_count": 96
    }
   ],
   "source": [
    "c.shape"
   ],
   "metadata": {
    "collapsed": false,
    "pycharm": {
     "name": "#%%\n",
     "is_executing": false
    }
   }
  },
  {
   "cell_type": "code",
   "execution_count": 98,
   "outputs": [],
   "source": [
    "cc = np.zeros([3001,1])"
   ],
   "metadata": {
    "collapsed": false,
    "pycharm": {
     "name": "#%%\n",
     "is_executing": false
    }
   }
  },
  {
   "cell_type": "code",
   "execution_count": 100,
   "outputs": [],
   "source": [
    "df = pd.DataFrame(cc,columns=['name'])"
   ],
   "metadata": {
    "collapsed": false,
    "pycharm": {
     "name": "#%%\n",
     "is_executing": false
    }
   }
  },
  {
   "cell_type": "code",
   "execution_count": 104,
   "outputs": [],
   "source": [
    "df['embed'] = c"
   ],
   "metadata": {
    "collapsed": false,
    "pycharm": {
     "name": "#%%\n",
     "is_executing": false
    }
   }
  },
  {
   "cell_type": "code",
   "execution_count": 105,
   "outputs": [
    {
     "data": {
      "text/plain": "      name                                              embed\n0      0.0  [[0.062049207299212816, 0.26740232153252086, 0...\n1      0.0  [[0.7884897113426664, 0.4937040004921027, 0.69...\n2      0.0  [[0.706820480080235, 0.29293511200010425, 0.78...\n3      0.0  [[0.8336800605178872, 0.28628690590495454, 0.7...\n4      0.0  [[0.7600975656980811, 0.9841442128373754, 0.44...\n...    ...                                                ...\n2996   0.0  [[0.49798005830647474, 0.9660226696070474, 0.4...\n2997   0.0  [[0.8366155628466649, 0.8133959452401552, 0.73...\n2998   0.0  [[0.6234929237338517, 0.8638718770503728, 0.29...\n2999   0.0  [[0.42841396746720517, 0.6534219693696393, 0.1...\n3000   0.0  [[0.24552660195493947, 0.8841342034821729, 0.7...\n\n[3001 rows x 2 columns]",
      "text/html": "<div>\n<style scoped>\n    .dataframe tbody tr th:only-of-type {\n        vertical-align: middle;\n    }\n\n    .dataframe tbody tr th {\n        vertical-align: top;\n    }\n\n    .dataframe thead th {\n        text-align: right;\n    }\n</style>\n<table border=\"1\" class=\"dataframe\">\n  <thead>\n    <tr style=\"text-align: right;\">\n      <th></th>\n      <th>name</th>\n      <th>embed</th>\n    </tr>\n  </thead>\n  <tbody>\n    <tr>\n      <th>0</th>\n      <td>0.0</td>\n      <td>[[0.062049207299212816, 0.26740232153252086, 0...</td>\n    </tr>\n    <tr>\n      <th>1</th>\n      <td>0.0</td>\n      <td>[[0.7884897113426664, 0.4937040004921027, 0.69...</td>\n    </tr>\n    <tr>\n      <th>2</th>\n      <td>0.0</td>\n      <td>[[0.706820480080235, 0.29293511200010425, 0.78...</td>\n    </tr>\n    <tr>\n      <th>3</th>\n      <td>0.0</td>\n      <td>[[0.8336800605178872, 0.28628690590495454, 0.7...</td>\n    </tr>\n    <tr>\n      <th>4</th>\n      <td>0.0</td>\n      <td>[[0.7600975656980811, 0.9841442128373754, 0.44...</td>\n    </tr>\n    <tr>\n      <th>5</th>\n      <td>0.0</td>\n      <td>[[0.52479540002134, 0.5340183551581188, 0.1205...</td>\n    </tr>\n    <tr>\n      <th>6</th>\n      <td>0.0</td>\n      <td>[[0.8492577825568455, 0.41669205185674196, 0.3...</td>\n    </tr>\n    <tr>\n      <th>7</th>\n      <td>0.0</td>\n      <td>[[0.4500009939079227, 0.1520964349647399, 0.40...</td>\n    </tr>\n    <tr>\n      <th>8</th>\n      <td>0.0</td>\n      <td>[[0.9903050626244546, 0.13578382172474568, 0.6...</td>\n    </tr>\n    <tr>\n      <th>9</th>\n      <td>0.0</td>\n      <td>[[0.6833032927560709, 0.970000009258429, 0.515...</td>\n    </tr>\n    <tr>\n      <th>10</th>\n      <td>0.0</td>\n      <td>[[0.2573335551419418, 0.060480121414883015, 0....</td>\n    </tr>\n    <tr>\n      <th>11</th>\n      <td>0.0</td>\n      <td>[[0.3501809760670862, 0.3470185770265549, 0.03...</td>\n    </tr>\n    <tr>\n      <th>12</th>\n      <td>0.0</td>\n      <td>[[0.08805182279629109, 0.9551558874882828, 0.7...</td>\n    </tr>\n    <tr>\n      <th>13</th>\n      <td>0.0</td>\n      <td>[[0.1810770622578003, 0.6770567299646858, 0.91...</td>\n    </tr>\n    <tr>\n      <th>14</th>\n      <td>0.0</td>\n      <td>[[0.3014143861620574, 0.7632489239230392, 0.94...</td>\n    </tr>\n    <tr>\n      <th>15</th>\n      <td>0.0</td>\n      <td>[[0.9184191907931234, 0.20289801070914493, 0.3...</td>\n    </tr>\n    <tr>\n      <th>16</th>\n      <td>0.0</td>\n      <td>[[0.7196424790726865, 0.8818959389253817, 0.86...</td>\n    </tr>\n    <tr>\n      <th>17</th>\n      <td>0.0</td>\n      <td>[[0.694215237224517, 0.1468661785277826, 0.728...</td>\n    </tr>\n    <tr>\n      <th>18</th>\n      <td>0.0</td>\n      <td>[[0.8082562085051842, 0.4780776889827123, 0.00...</td>\n    </tr>\n    <tr>\n      <th>19</th>\n      <td>0.0</td>\n      <td>[[0.9692239851163085, 0.4983766153874878, 0.97...</td>\n    </tr>\n    <tr>\n      <th>20</th>\n      <td>0.0</td>\n      <td>[[0.49623569586887084, 0.8495299092084345, 0.3...</td>\n    </tr>\n    <tr>\n      <th>21</th>\n      <td>0.0</td>\n      <td>[[0.6199528026599673, 0.839950985368257, 0.667...</td>\n    </tr>\n    <tr>\n      <th>22</th>\n      <td>0.0</td>\n      <td>[[0.7955766747307746, 0.9050983762202206, 0.24...</td>\n    </tr>\n    <tr>\n      <th>23</th>\n      <td>0.0</td>\n      <td>[[0.3098458501252245, 0.8812343825637274, 0.52...</td>\n    </tr>\n    <tr>\n      <th>24</th>\n      <td>0.0</td>\n      <td>[[0.6228302140944151, 0.60073756422884, 0.6530...</td>\n    </tr>\n    <tr>\n      <th>25</th>\n      <td>0.0</td>\n      <td>[[0.2727238463204371, 0.6873906575834359, 0.31...</td>\n    </tr>\n    <tr>\n      <th>26</th>\n      <td>0.0</td>\n      <td>[[0.7530666218631833, 0.584715635690208, 0.074...</td>\n    </tr>\n    <tr>\n      <th>27</th>\n      <td>0.0</td>\n      <td>[[0.04593474022520572, 0.2991041553513153, 0.0...</td>\n    </tr>\n    <tr>\n      <th>28</th>\n      <td>0.0</td>\n      <td>[[0.7268825680485774, 0.5280900178972321, 0.53...</td>\n    </tr>\n    <tr>\n      <th>29</th>\n      <td>0.0</td>\n      <td>[[0.603448770493649, 0.9453108097831289, 0.186...</td>\n    </tr>\n    <tr>\n      <th>...</th>\n      <td>...</td>\n      <td>...</td>\n    </tr>\n    <tr>\n      <th>2971</th>\n      <td>0.0</td>\n      <td>[[0.8120003197234007, 0.6299485884915018, 0.72...</td>\n    </tr>\n    <tr>\n      <th>2972</th>\n      <td>0.0</td>\n      <td>[[0.19808119864933416, 0.7457225885550329, 0.6...</td>\n    </tr>\n    <tr>\n      <th>2973</th>\n      <td>0.0</td>\n      <td>[[0.8979582327776747, 0.17289804914764595, 0.8...</td>\n    </tr>\n    <tr>\n      <th>2974</th>\n      <td>0.0</td>\n      <td>[[0.9867809771578238, 0.0893437897981807, 0.82...</td>\n    </tr>\n    <tr>\n      <th>2975</th>\n      <td>0.0</td>\n      <td>[[0.852229868383336, 0.6270953841685338, 0.376...</td>\n    </tr>\n    <tr>\n      <th>2976</th>\n      <td>0.0</td>\n      <td>[[0.17948100267313627, 0.6202250448736895, 0.3...</td>\n    </tr>\n    <tr>\n      <th>2977</th>\n      <td>0.0</td>\n      <td>[[0.053906263585973835, 0.4269031043631806, 0....</td>\n    </tr>\n    <tr>\n      <th>2978</th>\n      <td>0.0</td>\n      <td>[[0.10856302726505862, 0.1658021308417963, 0.9...</td>\n    </tr>\n    <tr>\n      <th>2979</th>\n      <td>0.0</td>\n      <td>[[0.7536379922035625, 0.5693566096235599, 0.40...</td>\n    </tr>\n    <tr>\n      <th>2980</th>\n      <td>0.0</td>\n      <td>[[0.9914218327677486, 0.8901739452868854, 0.00...</td>\n    </tr>\n    <tr>\n      <th>2981</th>\n      <td>0.0</td>\n      <td>[[0.24979666705085202, 0.785419923306106, 0.62...</td>\n    </tr>\n    <tr>\n      <th>2982</th>\n      <td>0.0</td>\n      <td>[[0.6176151326204462, 0.3088465535704581, 0.90...</td>\n    </tr>\n    <tr>\n      <th>2983</th>\n      <td>0.0</td>\n      <td>[[0.36704273019352107, 0.2746451062375016, 0.4...</td>\n    </tr>\n    <tr>\n      <th>2984</th>\n      <td>0.0</td>\n      <td>[[0.32574563990893746, 0.15501268167108784, 0....</td>\n    </tr>\n    <tr>\n      <th>2985</th>\n      <td>0.0</td>\n      <td>[[0.0163656814378208, 0.4094573708281808, 0.64...</td>\n    </tr>\n    <tr>\n      <th>2986</th>\n      <td>0.0</td>\n      <td>[[0.966289571647039, 0.33694281286157424, 0.36...</td>\n    </tr>\n    <tr>\n      <th>2987</th>\n      <td>0.0</td>\n      <td>[[0.8839660123620298, 0.931159510158252, 0.123...</td>\n    </tr>\n    <tr>\n      <th>2988</th>\n      <td>0.0</td>\n      <td>[[0.1643431482739749, 0.38554924363989884, 0.1...</td>\n    </tr>\n    <tr>\n      <th>2989</th>\n      <td>0.0</td>\n      <td>[[0.16667755696948616, 0.5738455907920866, 0.5...</td>\n    </tr>\n    <tr>\n      <th>2990</th>\n      <td>0.0</td>\n      <td>[[0.14175234479259036, 0.6049273323562342, 0.0...</td>\n    </tr>\n    <tr>\n      <th>2991</th>\n      <td>0.0</td>\n      <td>[[0.4999549596220946, 0.5827972445609911, 0.02...</td>\n    </tr>\n    <tr>\n      <th>2992</th>\n      <td>0.0</td>\n      <td>[[0.5579911288313916, 0.031618953564096275, 0....</td>\n    </tr>\n    <tr>\n      <th>2993</th>\n      <td>0.0</td>\n      <td>[[0.7001090367159571, 0.4396122069751601, 0.74...</td>\n    </tr>\n    <tr>\n      <th>2994</th>\n      <td>0.0</td>\n      <td>[[0.2536005339079136, 0.6541857178675109, 0.96...</td>\n    </tr>\n    <tr>\n      <th>2995</th>\n      <td>0.0</td>\n      <td>[[0.2459633713866326, 0.3882639309520397, 0.79...</td>\n    </tr>\n    <tr>\n      <th>2996</th>\n      <td>0.0</td>\n      <td>[[0.49798005830647474, 0.9660226696070474, 0.4...</td>\n    </tr>\n    <tr>\n      <th>2997</th>\n      <td>0.0</td>\n      <td>[[0.8366155628466649, 0.8133959452401552, 0.73...</td>\n    </tr>\n    <tr>\n      <th>2998</th>\n      <td>0.0</td>\n      <td>[[0.6234929237338517, 0.8638718770503728, 0.29...</td>\n    </tr>\n    <tr>\n      <th>2999</th>\n      <td>0.0</td>\n      <td>[[0.42841396746720517, 0.6534219693696393, 0.1...</td>\n    </tr>\n    <tr>\n      <th>3000</th>\n      <td>0.0</td>\n      <td>[[0.24552660195493947, 0.8841342034821729, 0.7...</td>\n    </tr>\n  </tbody>\n</table>\n<p>3001 rows × 2 columns</p>\n</div>"
     },
     "metadata": {},
     "output_type": "execute_result",
     "execution_count": 105
    }
   ],
   "source": [
    "df"
   ],
   "metadata": {
    "collapsed": false,
    "pycharm": {
     "name": "#%%\n",
     "is_executing": false
    }
   }
  },
  {
   "cell_type": "code",
   "execution_count": 106,
   "outputs": [],
   "source": [
    "df = None\n",
    "c = None\n",
    "cc = None\n"
   ],
   "metadata": {
    "collapsed": false,
    "pycharm": {
     "name": "#%%\n",
     "is_executing": false
    }
   }
  }
 ],
 "metadata": {
  "language_info": {
   "codemirror_mode": {
    "name": "ipython",
    "version": 2
   },
   "file_extension": ".py",
   "mimetype": "text/x-python",
   "name": "python",
   "nbconvert_exporter": "python",
   "pygments_lexer": "ipython2",
   "version": "2.7.6"
  },
  "kernelspec": {
   "name": "python3",
   "language": "python",
   "display_name": "Python 3"
  },
  "pycharm": {
   "stem_cell": {
    "cell_type": "raw",
    "source": [],
    "metadata": {
     "collapsed": false
    }
   }
  }
 },
 "nbformat": 4,
 "nbformat_minor": 0
}